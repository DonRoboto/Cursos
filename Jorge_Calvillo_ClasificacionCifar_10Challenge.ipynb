{
  "nbformat": 4,
  "nbformat_minor": 0,
  "metadata": {
    "colab": {
      "name": "Jorge Calvillo - ClasificacionCifar_10Challenge.ipynb",
      "provenance": [],
      "collapsed_sections": [],
      "include_colab_link": true
    },
    "kernelspec": {
      "name": "python3",
      "display_name": "Python 3"
    },
    "accelerator": "GPU"
  },
  "cells": [
    {
      "cell_type": "markdown",
      "metadata": {
        "id": "view-in-github",
        "colab_type": "text"
      },
      "source": [
        "<a href=\"https://colab.research.google.com/github/DonRoboto/Cursos/blob/master/Jorge_Calvillo_ClasificacionCifar_10Challenge.ipynb\" target=\"_parent\"><img src=\"https://colab.research.google.com/assets/colab-badge.svg\" alt=\"Open In Colab\"/></a>"
      ]
    },
    {
      "cell_type": "markdown",
      "metadata": {
        "id": "NDFIqemJn_bN",
        "colab_type": "text"
      },
      "source": [
        "## Construye tu clasificador de imágenes a color\n",
        "En este ejercicio propondrás una red convolucional diferente a la utilizada en la explicación del material M6.3 para clasificar Cifar 10.\n",
        "Tu objetivo será alcanzar un desempeño similar a ~75% de exactitud (accuracy) al clasificar con datos de validación (test).\n",
        "Podrás basarte en el modelo descrito en M6.3 y cambiar los hiperparámetros: añadir o quitar capas de convolucionales, pooling o dense. Tambien puedes variar el tamaño y número de kernels o filtros, etc.\n",
        "Recuerda que las clases son las siguientes:\n",
        "- 0 -> aviones\n",
        "- 1 -> automóviles\n",
        "- 2 -> aves\n",
        "- 3 -> gatos\n",
        "- 4 -> venados\n",
        "- 5 -> perros\n",
        "- 6 -> ranas\n",
        "- 7 -> caballos\n",
        "- 8 -> barcos\n",
        "- 9 -> tractocamiones"
      ]
    },
    {
      "cell_type": "code",
      "metadata": {
        "id": "dAhmcujVU-M1",
        "colab_type": "code",
        "colab": {}
      },
      "source": [
        "# Añade las 2 líneas para importar la nueva versión 2.0 de tensorflow\n",
        "from __future__ import absolute_import, division, print_function, unicode_literals\n",
        "import tensorflow as tf"
      ],
      "execution_count": 0,
      "outputs": []
    },
    {
      "cell_type": "code",
      "metadata": {
        "id": "TPxX1Lmp9Kg2",
        "colab_type": "code",
        "colab": {}
      },
      "source": [
        "# Importa las librerías\n",
        "import matplotlib.pyplot as plt                 # Librería para graficar\n",
        "import numpy as np                              # Librería para cálculos matemáticos\n",
        "from tensorflow.keras.datasets import cifar10   # Función para descargar las imágenes de Cifar 10\n",
        "\n",
        "# EJERCICIO\n",
        "# Importa las funciones de keras con la adecuación para usar tensorflow 2.0\n",
        "import matplotlib.pyplot as plt\n",
        "import numpy as np\n",
        "\n",
        "from tensorflow.keras.datasets import cifar10\n",
        "from tensorflow.keras.models import Sequential\n",
        "from tensorflow.keras.layers import Conv2D, MaxPooling2D, AveragePooling2D, Flatten, Dense\n",
        "from tensorflow.keras import optimizers, backend\n",
        "from keras.utils import np_utils\n",
        "from tensorflow.keras.callbacks import ModelCheckpoint\n"
      ],
      "execution_count": 0,
      "outputs": []
    },
    {
      "cell_type": "code",
      "metadata": {
        "id": "P7rqzCf-EYCU",
        "colab_type": "code",
        "colab": {}
      },
      "source": [
        "# Obtención de las imágenes y sus etiquetas\n",
        "# La función load_data() da como respuesta los grupos de entrenamiento y test por separado\n",
        "(x_train, y_train), (x_test, y_test) = cifar10.load_data()"
      ],
      "execution_count": 0,
      "outputs": []
    },
    {
      "cell_type": "code",
      "metadata": {
        "id": "ZJn7S2DdFBgM",
        "colab_type": "code",
        "outputId": "40188483-5492-45de-8112-d1b5c2f8f236",
        "colab": {
          "base_uri": "https://localhost:8080/",
          "height": 86
        }
      },
      "source": [
        "# Imprimimos el tamaño de los conjuntos de entrenamiento y prueba\n",
        "print('El numero de imágenes en el conjunto x_train es:', x_train.shape[0])\n",
        "print('El numero de etiquetas en el conjunto y_train es:', y_train.shape[0])\n",
        "print('El numero de imágenes en el conjunto x_test es:', x_test.shape[0])\n",
        "print('El numero de etiquetas en el conjunto y_test es:', y_test.shape[0])"
      ],
      "execution_count": 0,
      "outputs": [
        {
          "output_type": "stream",
          "text": [
            "El numero de imágenes en el conjunto x_train es: 50000\n",
            "El numero de etiquetas en el conjunto y_train es: 50000\n",
            "El numero de imágenes en el conjunto x_test es: 10000\n",
            "El numero de etiquetas en el conjunto y_test es: 10000\n"
          ],
          "name": "stdout"
        }
      ]
    },
    {
      "cell_type": "code",
      "metadata": {
        "id": "COC0VSM4HFLZ",
        "colab_type": "code",
        "outputId": "e0494c6a-f0a5-4428-b0a4-b1a83c3860ec",
        "colab": {
          "base_uri": "https://localhost:8080/",
          "height": 283
        }
      },
      "source": [
        "# Inspección visual de los datos\n",
        "\n",
        "# EJERCICIO\n",
        "# Grafica algunas imágenes del dataset y checa sus etiquetas\n",
        "n_imagen = 2500\n",
        "etiqueta = y_train[n_imagen]\n",
        "plt.imshow(x_train[n_imagen], cmap='gray')\n",
        "plt.show()\n",
        "print('La imagen de entrenamiento {}, corresponde con la etiqueta: {}'.format(n_imagen, etiqueta))"
      ],
      "execution_count": 0,
      "outputs": [
        {
          "output_type": "display_data",
          "data": {
            "image/png": "[encoded data removed]",
            "text/plain": [
              "<Figure size 432x288 with 1 Axes>"
            ]
          },
          "metadata": {
            "tags": [],
            "needs_background": "light"
          }
        },
        {
          "output_type": "stream",
          "text": [
            "La imagen de entrenamiento 2500, corresponde con la etiqueta: [5]\n"
          ],
          "name": "stdout"
        }
      ]
    },
    {
      "cell_type": "markdown",
      "metadata": {
        "id": "gyIZdlvBrbB6",
        "colab_type": "text"
      },
      "source": [
        "## Preprocesamiento de los datos\n",
        "Cuando se entrenan redes neuronales convolucionales no es necesario aplanar las imágenes en un vector, se usan con su formato matricial y numero de canales 3 (RGB).  \n",
        "Sin embargo, es recomendable escalar los valores de los pixeles de 0-255 a 0-1.\n",
        "También es necesario convertir a codificación 1-hot las etiquetas. Con 1-hot pasamos de tener una etiqueta que representa la clase 4 a un vector de 10 elementos donde el 4° elemento sea un 1 (comenzando desde la posición 0)\n",
        "etiqueta 4 -> 0000100000"
      ]
    },
    {
      "cell_type": "code",
      "metadata": {
        "id": "JnT1kfsnFBqs",
        "colab_type": "code",
        "colab": {}
      },
      "source": [
        "# Con astype establecemos la precisión de los números a flotantes de 32 bits\n",
        "x_train = x_train.astype('float32')\n",
        "x_test = x_test.astype('float32')\n",
        "\n",
        "# EJERCICIO\n",
        "# Escala los valores de los pixeles para que esten en el rango de 0 a 1\n",
        "x_train = x_train / 255.0\n",
        "x_test = x_test / 255.0"
      ],
      "execution_count": 0,
      "outputs": []
    },
    {
      "cell_type": "code",
      "metadata": {
        "id": "_tqzhORnIera",
        "colab_type": "code",
        "outputId": "f2cfeb42-97f7-4a1e-ccb2-9e32dcb600cb",
        "colab": {
          "base_uri": "https://localhost:8080/",
          "height": 34
        }
      },
      "source": [
        "# EJERCICIO\n",
        "# Aplica codificación 1-hot de las etiquetas\n",
        "y_train1 = np_utils.to_categorical(y_train)\n",
        "y_test1 = np_utils.to_categorical(y_test)\n",
        "\n",
        "# Visualiza la etiqueta 100 codificada\n",
        "print(y_train[100], ' -> ', y_train1[100])"
      ],
      "execution_count": 0,
      "outputs": [
        {
          "output_type": "stream",
          "text": [
            "[8]  ->  [0. 0. 0. 0. 0. 0. 0. 0. 1. 0.]\n"
          ],
          "name": "stdout"
        }
      ]
    },
    {
      "cell_type": "markdown",
      "metadata": {
        "id": "URwaXsxAt0KA",
        "colab_type": "text"
      },
      "source": [
        "## Creación del modelo "
      ]
    },
    {
      "cell_type": "markdown",
      "metadata": {
        "id": "dO7PX9b2RP6p",
        "colab_type": "text"
      },
      "source": [
        "Gran parte del trabajo para construir modelos de Deep Learning se centra en la experimentación. \n",
        "Propon un modelo, entrénalo y cambia los hiperparámetros. Analiza los resultados. ¿Qué puedes concluir?"
      ]
    },
    {
      "cell_type": "code",
      "metadata": {
        "id": "ty2ibC_NDLRE",
        "colab_type": "code",
        "colab": {}
      },
      "source": [
        "# EJERCICIO\n",
        "# Escribe la línea de código que elimina información previa de los modelos \n",
        "backend.clear_session()"
      ],
      "execution_count": 0,
      "outputs": []
    },
    {
      "cell_type": "code",
      "metadata": {
        "id": "EWgy7G2zt8PQ",
        "colab_type": "code",
        "colab": {}
      },
      "source": [
        "# EJERCICIO\n",
        "# Define tu modelo\n",
        "modeloConv = Sequential()\n",
        "modeloConv.add(Conv2D(64, kernel_size=(4,4), activation = 'relu', use_bias = True, input_shape = (32,32,3)))\n",
        "modeloConv.add(MaxPooling2D(pool_size=(2,2)))\n",
        "modeloConv.add(Conv2D(128, kernel_size=(3,3), activation = 'relu', use_bias = True))\n",
        "modeloConv.add(MaxPooling2D(pool_size=(2,2)))\n",
        "modeloConv.add(Conv2D(256, kernel_size=(3,3), activation = 'relu', use_bias = True))\n",
        "modeloConv.add(Conv2D(512, kernel_size=(3,3), activation = 'relu', use_bias = True))\n",
        "modeloConv.add(MaxPooling2D(pool_size=(2,2)))\n",
        "modeloConv.add(Flatten())\n",
        "modeloConv.add(Dense(128, activation='relu', use_bias=True))\n",
        "modeloConv.add(Dense(256, activation='relu', use_bias=True))\n",
        "modeloConv.add(Dense(512, activation='relu', use_bias=True))\n",
        "modeloConv.add(Dense(1024, activation='relu', use_bias=True))\n",
        "modeloConv.add(Dense(10, activation='softmax', use_bias=True))\n"
      ],
      "execution_count": 0,
      "outputs": []
    },
    {
      "cell_type": "code",
      "metadata": {
        "id": "FAzRKgkD0VDG",
        "colab_type": "code",
        "outputId": "3994520a-e677-4458-9c2d-4d1db427bbcb",
        "colab": {
          "base_uri": "https://localhost:8080/",
          "height": 607
        }
      },
      "source": [
        "# EJERCICIO\n",
        "# Muestra la tabla con las características de tu modelo\n",
        "modeloConv.summary()"
      ],
      "execution_count": 0,
      "outputs": [
        {
          "output_type": "stream",
          "text": [
            "Model: \"sequential_3\"\n",
            "_________________________________________________________________\n",
            "Layer (type)                 Output Shape              Param #   \n",
            "=================================================================\n",
            "conv2d_10 (Conv2D)           (None, 29, 29, 64)        3136      \n",
            "_________________________________________________________________\n",
            "max_pooling2d_8 (MaxPooling2 (None, 14, 14, 64)        0         \n",
            "_________________________________________________________________\n",
            "conv2d_11 (Conv2D)           (None, 12, 12, 128)       73856     \n",
            "_________________________________________________________________\n",
            "max_pooling2d_9 (MaxPooling2 (None, 6, 6, 128)         0         \n",
            "_________________________________________________________________\n",
            "conv2d_12 (Conv2D)           (None, 4, 4, 256)         295168    \n",
            "_________________________________________________________________\n",
            "conv2d_13 (Conv2D)           (None, 2, 2, 512)         1180160   \n",
            "_________________________________________________________________\n",
            "max_pooling2d_10 (MaxPooling (None, 1, 1, 512)         0         \n",
            "_________________________________________________________________\n",
            "flatten_2 (Flatten)          (None, 512)               0         \n",
            "_________________________________________________________________\n",
            "dense_10 (Dense)             (None, 128)               65664     \n",
            "_________________________________________________________________\n",
            "dense_11 (Dense)             (None, 256)               33024     \n",
            "_________________________________________________________________\n",
            "dense_12 (Dense)             (None, 512)               131584    \n",
            "_________________________________________________________________\n",
            "dense_13 (Dense)             (None, 1024)              525312    \n",
            "_________________________________________________________________\n",
            "dense_14 (Dense)             (None, 10)                10250     \n",
            "=================================================================\n",
            "Total params: 2,318,154\n",
            "Trainable params: 2,318,154\n",
            "Non-trainable params: 0\n",
            "_________________________________________________________________\n"
          ],
          "name": "stdout"
        }
      ]
    },
    {
      "cell_type": "markdown",
      "metadata": {
        "id": "IDwCE9LX1KZ6",
        "colab_type": "text"
      },
      "source": [
        "## Entrenamiento del modelo"
      ]
    },
    {
      "cell_type": "code",
      "metadata": {
        "id": "9SR1tzAz1QVL",
        "colab_type": "code",
        "colab": {}
      },
      "source": [
        "# EJERCICIO\n",
        "# Define del optimizador Adam\n",
        "adam = optimizers.Adam(lr=0.0001, beta_1=0.9, beta_2=0.999, epsilon=1e-8, decay=0.0)\n",
        "\n",
        "# EJERCICIO\n",
        "# Compila el modelo\n",
        "modeloConv.compile(optimizer=adam, loss='categorical_crossentropy', metrics=['accuracy'])"
      ],
      "execution_count": 0,
      "outputs": []
    },
    {
      "cell_type": "code",
      "metadata": {
        "id": "mO3Kp-sJ0bMq",
        "colab_type": "code",
        "colab": {}
      },
      "source": [
        "# Define un checkpointer para guardar los pesos sinapticos de la red\n",
        "checkpointer = ModelCheckpoint('modelo_v1.h5', monitor='val_accuracy', save_best_only=True, mode='max', verbose=1 )"
      ],
      "execution_count": 0,
      "outputs": []
    },
    {
      "cell_type": "code",
      "metadata": {
        "id": "eRTQOlGmeTza",
        "colab_type": "code",
        "outputId": "4bdc036b-1c7d-42e8-91ba-91dbf67a3877",
        "colab": {
          "base_uri": "https://localhost:8080/",
          "height": 1000
        }
      },
      "source": [
        "# Entrena tu modelo, recuerda utilizar las etiquetas generadas por la codificación 1-hot (y_train1, y_test1)\n",
        "M = modeloConv.fit(x_train, y_train1, validation_data=(x_test, y_test1), epochs=20, batch_size=32, shuffle=True, callbacks=[checkpointer], verbose=1 )"
      ],
      "execution_count": 0,
      "outputs": [
        {
          "output_type": "stream",
          "text": [
            "Epoch 1/20\n",
            "1563/1563 [==============================] - ETA: 0s - loss: 1.6585 - accuracy: 0.3712\n",
            "Epoch 00001: val_accuracy improved from -inf to 0.44660, saving model to modelo_v1.h5\n",
            "1563/1563 [==============================] - 10s 7ms/step - loss: 1.6585 - accuracy: 0.3712 - val_loss: 1.4670 - val_accuracy: 0.4466\n",
            "Epoch 2/20\n",
            "1560/1563 [============================>.] - ETA: 0s - loss: 1.2637 - accuracy: 0.5397\n",
            "Epoch 00002: val_accuracy improved from 0.44660 to 0.59000, saving model to modelo_v1.h5\n",
            "1563/1563 [==============================] - 10s 6ms/step - loss: 1.2635 - accuracy: 0.5399 - val_loss: 1.1407 - val_accuracy: 0.5900\n",
            "Epoch 3/20\n",
            "1560/1563 [============================>.] - ETA: 0s - loss: 1.0735 - accuracy: 0.6132\n",
            "Epoch 00003: val_accuracy improved from 0.59000 to 0.61730, saving model to modelo_v1.h5\n",
            "1563/1563 [==============================] - 10s 7ms/step - loss: 1.0736 - accuracy: 0.6132 - val_loss: 1.0869 - val_accuracy: 0.6173\n",
            "Epoch 4/20\n",
            "1558/1563 [============================>.] - ETA: 0s - loss: 0.9282 - accuracy: 0.6717\n",
            "Epoch 00004: val_accuracy improved from 0.61730 to 0.66950, saving model to modelo_v1.h5\n",
            "1563/1563 [==============================] - 10s 6ms/step - loss: 0.9279 - accuracy: 0.6718 - val_loss: 0.9532 - val_accuracy: 0.6695\n",
            "Epoch 5/20\n",
            "1555/1563 [============================>.] - ETA: 0s - loss: 0.8038 - accuracy: 0.7143\n",
            "Epoch 00005: val_accuracy improved from 0.66950 to 0.70640, saving model to modelo_v1.h5\n",
            "1563/1563 [==============================] - 10s 6ms/step - loss: 0.8034 - accuracy: 0.7145 - val_loss: 0.8503 - val_accuracy: 0.7064\n",
            "Epoch 6/20\n",
            "1559/1563 [============================>.] - ETA: 0s - loss: 0.6922 - accuracy: 0.7574\n",
            "Epoch 00006: val_accuracy did not improve from 0.70640\n",
            "1563/1563 [==============================] - 10s 6ms/step - loss: 0.6920 - accuracy: 0.7574 - val_loss: 0.9442 - val_accuracy: 0.6824\n",
            "Epoch 7/20\n",
            "1555/1563 [============================>.] - ETA: 0s - loss: 0.5935 - accuracy: 0.7920\n",
            "Epoch 00007: val_accuracy improved from 0.70640 to 0.73580, saving model to modelo_v1.h5\n",
            "1563/1563 [==============================] - 10s 6ms/step - loss: 0.5936 - accuracy: 0.7918 - val_loss: 0.7711 - val_accuracy: 0.7358\n",
            "Epoch 8/20\n",
            "1559/1563 [============================>.] - ETA: 0s - loss: 0.4925 - accuracy: 0.8285\n",
            "Epoch 00008: val_accuracy did not improve from 0.73580\n",
            "1563/1563 [==============================] - 10s 6ms/step - loss: 0.4924 - accuracy: 0.8285 - val_loss: 0.8314 - val_accuracy: 0.7262\n",
            "Epoch 9/20\n",
            "1558/1563 [============================>.] - ETA: 0s - loss: 0.4030 - accuracy: 0.8605\n",
            "Epoch 00009: val_accuracy did not improve from 0.73580\n",
            "1563/1563 [==============================] - 10s 6ms/step - loss: 0.4028 - accuracy: 0.8606 - val_loss: 0.8384 - val_accuracy: 0.7344\n",
            "Epoch 10/20\n",
            "1561/1563 [============================>.] - ETA: 0s - loss: 0.3125 - accuracy: 0.8914\n",
            "Epoch 00010: val_accuracy did not improve from 0.73580\n",
            "1563/1563 [==============================] - 10s 6ms/step - loss: 0.3125 - accuracy: 0.8913 - val_loss: 0.9159 - val_accuracy: 0.7279\n",
            "Epoch 11/20\n",
            "1557/1563 [============================>.] - ETA: 0s - loss: 0.2376 - accuracy: 0.9170\n",
            "Epoch 00011: val_accuracy did not improve from 0.73580\n",
            "1563/1563 [==============================] - 10s 6ms/step - loss: 0.2376 - accuracy: 0.9170 - val_loss: 0.9949 - val_accuracy: 0.7264\n",
            "Epoch 12/20\n",
            "1556/1563 [============================>.] - ETA: 0s - loss: 0.1791 - accuracy: 0.9378\n",
            "Epoch 00012: val_accuracy did not improve from 0.73580\n",
            "1563/1563 [==============================] - 10s 6ms/step - loss: 0.1795 - accuracy: 0.9378 - val_loss: 1.1777 - val_accuracy: 0.7200\n",
            "Epoch 13/20\n",
            "1554/1563 [============================>.] - ETA: 0s - loss: 0.1415 - accuracy: 0.9505\n",
            "Epoch 00013: val_accuracy did not improve from 0.73580\n",
            "1563/1563 [==============================] - 10s 6ms/step - loss: 0.1413 - accuracy: 0.9506 - val_loss: 1.0974 - val_accuracy: 0.7357\n",
            "Epoch 14/20\n",
            "1562/1563 [============================>.] - ETA: 0s - loss: 0.1144 - accuracy: 0.9595\n",
            "Epoch 00014: val_accuracy did not improve from 0.73580\n",
            "1563/1563 [==============================] - 10s 6ms/step - loss: 0.1144 - accuracy: 0.9595 - val_loss: 1.3070 - val_accuracy: 0.7242\n",
            "Epoch 15/20\n",
            "1559/1563 [============================>.] - ETA: 0s - loss: 0.0941 - accuracy: 0.9670\n",
            "Epoch 00015: val_accuracy did not improve from 0.73580\n",
            "1563/1563 [==============================] - 10s 6ms/step - loss: 0.0942 - accuracy: 0.9670 - val_loss: 1.3272 - val_accuracy: 0.7305\n",
            "Epoch 16/20\n",
            "1561/1563 [============================>.] - ETA: 0s - loss: 0.0874 - accuracy: 0.9695\n",
            "Epoch 00016: val_accuracy did not improve from 0.73580\n",
            "1563/1563 [==============================] - 10s 6ms/step - loss: 0.0874 - accuracy: 0.9695 - val_loss: 1.3570 - val_accuracy: 0.7291\n",
            "Epoch 17/20\n",
            "1555/1563 [============================>.] - ETA: 0s - loss: 0.0722 - accuracy: 0.9755\n",
            "Epoch 00017: val_accuracy did not improve from 0.73580\n",
            "1563/1563 [==============================] - 10s 6ms/step - loss: 0.0721 - accuracy: 0.9756 - val_loss: 1.4949 - val_accuracy: 0.7241\n",
            "Epoch 18/20\n",
            "1562/1563 [============================>.] - ETA: 0s - loss: 0.0769 - accuracy: 0.9735\n",
            "Epoch 00018: val_accuracy did not improve from 0.73580\n",
            "1563/1563 [==============================] - 10s 6ms/step - loss: 0.0769 - accuracy: 0.9735 - val_loss: 1.4265 - val_accuracy: 0.7326\n",
            "Epoch 19/20\n",
            "1561/1563 [============================>.] - ETA: 0s - loss: 0.0634 - accuracy: 0.9782\n",
            "Epoch 00019: val_accuracy did not improve from 0.73580\n",
            "1563/1563 [==============================] - 10s 6ms/step - loss: 0.0633 - accuracy: 0.9782 - val_loss: 1.5312 - val_accuracy: 0.7208\n",
            "Epoch 20/20\n",
            "1555/1563 [============================>.] - ETA: 0s - loss: 0.0650 - accuracy: 0.9780\n",
            "Epoch 00020: val_accuracy did not improve from 0.73580\n",
            "1563/1563 [==============================] - 10s 6ms/step - loss: 0.0649 - accuracy: 0.9780 - val_loss: 1.4351 - val_accuracy: 0.7358\n"
          ],
          "name": "stdout"
        }
      ]
    },
    {
      "cell_type": "markdown",
      "metadata": {
        "id": "D5WmIHQGUaWE",
        "colab_type": "text"
      },
      "source": [
        "## Evaluación del modelo"
      ]
    },
    {
      "cell_type": "code",
      "metadata": {
        "id": "3Qf05-awUjSZ",
        "colab_type": "code",
        "outputId": "015f0568-0c6b-4b8f-e2f1-dfac53db758c",
        "colab": {
          "base_uri": "https://localhost:8080/",
          "height": 281
        }
      },
      "source": [
        "# EJERCICIO\n",
        "# Grafica el accuracy (exactitud) con datos de entrenamiento y validación\n",
        "plt.plot(M.history['accuracy'], label='entrenamiento')\n",
        "plt.plot(M.history['val_accuracy'], label='validacion')\n",
        "plt.legend(loc='lower right')\n",
        "plt.xlabel('epocas')\n",
        "plt.ylabel('accuracy')\n",
        "plt.show()"
      ],
      "execution_count": 0,
      "outputs": [
        {
          "output_type": "display_data",
          "data": {
            "image/png": "[encoded data removed]",
            "text/plain": [
              "<Figure size 432x288 with 1 Axes>"
            ]
          },
          "metadata": {
            "tags": [],
            "needs_background": "light"
          }
        }
      ]
    },
    {
      "cell_type": "code",
      "metadata": {
        "id": "khm4kbKgUDkx",
        "colab_type": "code",
        "outputId": "f6a7d94f-4fc4-49e8-d01b-8dd80f35d176",
        "colab": {
          "base_uri": "https://localhost:8080/",
          "height": 283
        }
      },
      "source": [
        "# EJERCICIO\n",
        "# Realiza algunas clasificaciones con las imágenes de test\n",
        "n_imagen = 2600\n",
        "imagen = x_test[n_imagen]\n",
        "etiqueta = y_test[n_imagen]\n",
        "prediccion = modeloConv.predict_classes(imagen.reshape(1,32,32,3))\n",
        "\n",
        "# Gráfica de la imagen\n",
        "plt.imshow(imagen)\n",
        "plt.show()\n",
        "print('La imagen {}, tiene la etiqueta {}, el modelo lo clasifica como: {}'.format(n_imagen, etiqueta, prediccion))"
      ],
      "execution_count": 0,
      "outputs": [
        {
          "output_type": "display_data",
          "data": {
            "image/png": "[encoded data removed]",
            "text/plain": [
              "<Figure size 432x288 with 1 Axes>"
            ]
          },
          "metadata": {
            "tags": [],
            "needs_background": "light"
          }
        },
        {
          "output_type": "stream",
          "text": [
            "La imagen 2600, tiene la etiqueta [8], el modelo lo clasifica como: [8]\n"
          ],
          "name": "stdout"
        }
      ]
    },
    {
      "cell_type": "code",
      "metadata": {
        "id": "-VYMEkrxUnDO",
        "colab_type": "code",
        "outputId": "6af7f02e-a47f-4731-cb7a-2549580f843d",
        "colab": {
          "base_uri": "https://localhost:8080/",
          "height": 69
        }
      },
      "source": [
        "# EJERCICIO\n",
        "# Evalua tu modelo mediante la función evaluate y muestra el error y accuracy en la ultima época\n",
        "evaluacion = modeloConv.evaluate(x_test, y_test1)\n",
        "error = evaluacion[0]\n",
        "accuracy = evaluacion[1]\n",
        "print(\"error final del modelo {}\".format(error))\n",
        "print(\"accuracy final del modelo {}\".format(accuracy))"
      ],
      "execution_count": 0,
      "outputs": [
        {
          "output_type": "stream",
          "text": [
            "313/313 [==============================] - 1s 4ms/step - loss: 1.4351 - accuracy: 0.7358\n",
            "error final del modelo 1.4351133108139038\n",
            "accuracy final del modelo 0.73580002784729\n"
          ],
          "name": "stdout"
        }
      ]
    }
  ]
}