{
  "nbformat": 4,
  "nbformat_minor": 0,
  "metadata": {
    "kernelspec": {
      "display_name": "Python 3",
      "language": "python",
      "name": "python3"
    },
    "language_info": {
      "codemirror_mode": {
        "name": "ipython",
        "version": 3
      },
      "file_extension": ".py",
      "mimetype": "text/x-python",
      "name": "python",
      "nbconvert_exporter": "python",
      "pygments_lexer": "ipython3",
      "version": "3.7.7"
    },
    "colab": {
      "name": "Ejercicio_01 .- Analizador de contraseñas.ipynb",
      "provenance": [],
      "include_colab_link": true
    }
  },
  "cells": [
    {
      "cell_type": "markdown",
      "metadata": {
        "id": "view-in-github",
        "colab_type": "text"
      },
      "source": [
        "<a href=\"https://colab.research.google.com/github/DonRoboto/Cursos/blob/master/Ejercicio_01_Analizador_de_contrase%C3%B1as.ipynb\" target=\"_parent\"><img src=\"https://colab.research.google.com/assets/colab-badge.svg\" alt=\"Open In Colab\"/></a>"
      ]
    },
    {
      "cell_type": "markdown",
      "metadata": {
        "id": "X2S2zv3iAmgm",
        "colab_type": "text"
      },
      "source": [
        "# Ejercicio 01: Analizador de contraseñas"
      ]
    },
    {
      "cell_type": "markdown",
      "metadata": {
        "id": "PNR35PxMAmgo",
        "colab_type": "text"
      },
      "source": [
        "Instrucciones:\n",
        "\n",
        "Desarrollar un programa en python, utilizando la librería de SpaCy que sea capaz de analisar contraseñas, y devolver una respuesta de \"Aceptada\" o \"No aceptada\" en función de que scumpla con los siguientes criterios:\n",
        "\n",
        "Validaciones que se pueden hacer sin Spacy:\n",
        "- Debe tener al menos 8 caracteres\n",
        "- Puede tener un máximo de 20 caracteres\n",
        "- Debe tener por lo menos un caracter especial\n",
        "\n",
        "Validaciones en las que debes utilizar Spacy:\n",
        "- Debe tener cuando menos 3 números\n",
        "- No puede haber más de 2 mayúsculas seguidas. Ejemplo: RAULcuriel452& es inválido\n",
        "- Por seguridad la contraseña no puede contener nombres propios. Ejemplo: cuentapedro1431# (Aquí la contraseña cuenta con la palabra pedro inmersas en ella (nombre propio), por lo tanto no es válida)\n",
        "\n",
        "Se recomienda hacer un método (función) para analizar cada punto descrito anteriormente.\n",
        "\n",
        "A continuación se da una lista de Ejemplos que se deben validar (Puedes copiar y pegar ésta entreda)\n",
        "\n",
        "Conts = [\"cuentapedro1431#\", \"Armando4523_prr#\", \"&012_Sara_frlz_012\", \"rfRtgF123rfdsdd\", \"micontraseña111#\", \"nombrenumero?TTTsfr$T\", \"CrYtF34dWsRFGds12\", \"DOREMIFA_music27&\"]\n",
        "           \n",
        "        \n",
        "Si las entradas son las anteriores, el programa debería imprimir el problema encontrado con cada contraseña (si es que se encuentran) y regresar también un arreglo con los criterios \"Aceptada\" o \"Rechazada\" según sea el caso, teniendo algo como lo siguiente:\n",
        "\n",
        "El resultado es el siguiente:\n",
        "['Aceptada', 'Aceptada', 'Aceptada', 'Rechazada', 'Aceptada', 'Rechazada', 'Rechazada']\n",
        "\n",
        "\n",
        "Pistas: \n",
        "- En los últimos 3 puntos, los atributos .shape_ y .pos_ de las contraseñas tokenizadas pueden ser muy útiles\n",
        "- Se puede seguir un \"pipeline\" y hacer en un arreglo for que recorra las contraseñas la llamada a cada método (cada uno detecta un problema distinto) e imprimir dentro de ese método la contraseña correspondiente y el error que se encontró\n",
        "- Recuerda que los nombres propios no necesariamente están éxplicitos, puede ser algo como: dEfrfgjuaner4fWd#$ (el nombre Juan está ahí)\n",
        "\n",
        "Suerte!"
      ]
    },
    {
      "cell_type": "code",
      "metadata": {
        "id": "LOfzIYtFAmgq",
        "colab_type": "code",
        "colab": {
          "base_uri": "https://localhost:8080/",
          "height": 364
        },
        "outputId": "43af7a8d-4631-4a9b-e3b4-8d37482d027d"
      },
      "source": [
        "!pip install spacy"
      ],
      "execution_count": 5,
      "outputs": [
        {
          "output_type": "stream",
          "text": [
            "Requirement already satisfied: spacy in /usr/local/lib/python3.6/dist-packages (2.2.4)\n",
            "Requirement already satisfied: tqdm<5.0.0,>=4.38.0 in /usr/local/lib/python3.6/dist-packages (from spacy) (4.41.1)\n",
            "Requirement already satisfied: plac<1.2.0,>=0.9.6 in /usr/local/lib/python3.6/dist-packages (from spacy) (1.1.3)\n",
            "Requirement already satisfied: murmurhash<1.1.0,>=0.28.0 in /usr/local/lib/python3.6/dist-packages (from spacy) (1.0.2)\n",
            "Requirement already satisfied: preshed<3.1.0,>=3.0.2 in /usr/local/lib/python3.6/dist-packages (from spacy) (3.0.2)\n",
            "Requirement already satisfied: srsly<1.1.0,>=1.0.2 in /usr/local/lib/python3.6/dist-packages (from spacy) (1.0.2)\n",
            "Requirement already satisfied: numpy>=1.15.0 in /usr/local/lib/python3.6/dist-packages (from spacy) (1.18.5)\n",
            "Requirement already satisfied: catalogue<1.1.0,>=0.0.7 in /usr/local/lib/python3.6/dist-packages (from spacy) (1.0.0)\n",
            "Requirement already satisfied: setuptools in /usr/local/lib/python3.6/dist-packages (from spacy) (47.1.1)\n",
            "Requirement already satisfied: wasabi<1.1.0,>=0.4.0 in /usr/local/lib/python3.6/dist-packages (from spacy) (0.6.0)\n",
            "Requirement already satisfied: cymem<2.1.0,>=2.0.2 in /usr/local/lib/python3.6/dist-packages (from spacy) (2.0.3)\n",
            "Requirement already satisfied: thinc==7.4.0 in /usr/local/lib/python3.6/dist-packages (from spacy) (7.4.0)\n",
            "Requirement already satisfied: requests<3.0.0,>=2.13.0 in /usr/local/lib/python3.6/dist-packages (from spacy) (2.23.0)\n",
            "Requirement already satisfied: blis<0.5.0,>=0.4.0 in /usr/local/lib/python3.6/dist-packages (from spacy) (0.4.1)\n",
            "Requirement already satisfied: importlib-metadata>=0.20; python_version < \"3.8\" in /usr/local/lib/python3.6/dist-packages (from catalogue<1.1.0,>=0.0.7->spacy) (1.6.0)\n",
            "Requirement already satisfied: idna<3,>=2.5 in /usr/local/lib/python3.6/dist-packages (from requests<3.0.0,>=2.13.0->spacy) (2.9)\n",
            "Requirement already satisfied: certifi>=2017.4.17 in /usr/local/lib/python3.6/dist-packages (from requests<3.0.0,>=2.13.0->spacy) (2020.4.5.1)\n",
            "Requirement already satisfied: chardet<4,>=3.0.2 in /usr/local/lib/python3.6/dist-packages (from requests<3.0.0,>=2.13.0->spacy) (3.0.4)\n",
            "Requirement already satisfied: urllib3!=1.25.0,!=1.25.1,<1.26,>=1.21.1 in /usr/local/lib/python3.6/dist-packages (from requests<3.0.0,>=2.13.0->spacy) (1.24.3)\n",
            "Requirement already satisfied: zipp>=0.5 in /usr/local/lib/python3.6/dist-packages (from importlib-metadata>=0.20; python_version < \"3.8\"->catalogue<1.1.0,>=0.0.7->spacy) (3.1.0)\n"
          ],
          "name": "stdout"
        }
      ]
    },
    {
      "cell_type": "code",
      "metadata": {
        "id": "LUEWym0X7wGN",
        "colab_type": "code",
        "colab": {
          "base_uri": "https://localhost:8080/",
          "height": 52
        },
        "outputId": "eb3de381-0dc1-475f-eb74-deffbaef5faa"
      },
      "source": [
        "import spacy.cli\n",
        "spacy.cli.download(\"es_core_news_sm\")"
      ],
      "execution_count": 15,
      "outputs": [
        {
          "output_type": "stream",
          "text": [
            "\u001b[38;5;2m✔ Download and installation successful\u001b[0m\n",
            "You can now load the model via spacy.load('es_core_news_sm')\n"
          ],
          "name": "stdout"
        }
      ]
    },
    {
      "cell_type": "code",
      "metadata": {
        "id": "XCo2JeJS6Lnb",
        "colab_type": "code",
        "colab": {}
      },
      "source": [
        "# Declaramos las listas de entrada:\n",
        "Conts = [\"cuentapedro1431#\", \"Armando4523_prr#\", \"&012_Sara_frlz_012\", \"rfRtgF123rfdsdd\", \"micontraseña111#\", \"nombrenumero?TTTsfr$T\", \"CrYtF34dWsRFGds12\", \"DOREMIFA_music27&\"]"
      ],
      "execution_count": 0,
      "outputs": []
    },
    {
      "cell_type": "code",
      "metadata": {
        "id": "ts8XgZLNAmgy",
        "colab_type": "code",
        "colab": {}
      },
      "source": [
        "# Importamos SpaCy para trabajar con sus propiedades\n",
        "from spacy import displacy\n",
        "import spacy\n",
        "pln_es = spacy.load(\"es_core_news_sm\")"
      ],
      "execution_count": 0,
      "outputs": []
    },
    {
      "cell_type": "code",
      "metadata": {
        "id": "R6PTzokoAmg9",
        "colab_type": "code",
        "colab": {}
      },
      "source": [
        "# Al menos 8 caracteres\n",
        "def Caracteres_8(cont):\n",
        "    if len(cont) >= 8:\n",
        "        return 1\n",
        "    else:\n",
        "        print(\"Contraseña: '\" + cont + \"' no cuenta con al menos 8 Caracteres\")\n",
        "        return 0"
      ],
      "execution_count": 0,
      "outputs": []
    },
    {
      "cell_type": "code",
      "metadata": {
        "id": "XcXzZDKRAmhD",
        "colab_type": "code",
        "colab": {}
      },
      "source": [
        "# Máximo 20 caracteres\n",
        "def Caracteres_20(cont):\n",
        "    if len(cont) <= 20:\n",
        "        return 1\n",
        "    else:\n",
        "        print(\"Contraseña: '\" + cont + \"' contiene más de 20 caracteres\")\n",
        "        return 0"
      ],
      "execution_count": 0,
      "outputs": []
    },
    {
      "cell_type": "code",
      "metadata": {
        "id": "uq7D51GkAmhL",
        "colab_type": "code",
        "colab": {}
      },
      "source": [
        "# Al menos un caracter especial\n",
        "def Caracter_Especial(cont):\n",
        "    if cont.isalnum() == False:\n",
        "        return 1\n",
        "    else:\n",
        "        print(\"Contraseña: '\" + cont + \"' no cuenta con al menos 1 caracter especial\")\n",
        "        return 0"
      ],
      "execution_count": 0,
      "outputs": []
    },
    {
      "cell_type": "code",
      "metadata": {
        "id": "xXKP2scCAmhR",
        "colab_type": "code",
        "colab": {}
      },
      "source": [
        "# Al menos 3 números\n",
        "def Numeros3(cont):\n",
        "    numeros = 0\n",
        "    for token in pln_es(cont):\n",
        "        forma = token.shape_\n",
        "        numeros += forma.count('d')\n",
        "    if numeros >= 3:\n",
        "        return 1\n",
        "    else:\n",
        "        print(\"Contraseña: '\" + cont + \"' no cuenta con al menos 3 números\")\n",
        "        return 0"
      ],
      "execution_count": 0,
      "outputs": []
    },
    {
      "cell_type": "code",
      "metadata": {
        "id": "dswlvhBJAmhX",
        "colab_type": "code",
        "colab": {}
      },
      "source": [
        "# No más de 2 mayúsculas seguidas\n",
        "def Mayusculas2(cont):\n",
        "    Error = 0\n",
        "    for token in pln_es(cont):\n",
        "        forma = token.shape_\n",
        "        if forma.count('XXX') >= 1:\n",
        "            Error = 1\n",
        "    if Error == 0:\n",
        "        return 1\n",
        "    else:\n",
        "        print(\"Contraseña: '\" + cont + \"' tiene demasiadas mayúsculas seguidas\")\n",
        "        return 0"
      ],
      "execution_count": 0,
      "outputs": []
    },
    {
      "cell_type": "code",
      "metadata": {
        "id": "ZlJukXz9Amhi",
        "colab_type": "code",
        "colab": {}
      },
      "source": [
        "# Nombres Propios\n",
        "def NombresP(cont):\n",
        "    Error = 0\n",
        "    for i in range(len(cont)):\n",
        "        x1 = 0\n",
        "        x2 = i\n",
        "        while(x2 <= len(cont)):\n",
        "            Entidades = pln_es(cont[x1:x2]).ents\n",
        "            if len(Entidades) >= 1:\n",
        "                texto = pln_es(Entidades[0].text)\n",
        "                for token in texto:\n",
        "                    if token.pos_ == 'PROPN':\n",
        "                        Error = 1\n",
        "            x1 += 1\n",
        "            x2 += 1\n",
        "    if Error == 0:\n",
        "        return 1\n",
        "    else:\n",
        "        print(\"Contraseña: '\" + cont + \"' tiene un nombre propio\")\n",
        "        return 0"
      ],
      "execution_count": 0,
      "outputs": []
    },
    {
      "cell_type": "code",
      "metadata": {
        "id": "EXVhgclwAmho",
        "colab_type": "code",
        "outputId": "e28f8cb8-5c45-4ef3-8a11-f7b3b8b74b96",
        "colab": {
          "base_uri": "https://localhost:8080/",
          "height": 347
        }
      },
      "source": [
        "# Declaramos la lista de salidas (En la que iremos agregando si es aceptada o no según sea el caso)\n",
        "Salida = list()\n",
        "\n",
        "# Mandamos a llamar cada contraseña para los métodos descritos anteriormente\n",
        "for cont  in Conts:\n",
        "    CheckList = 0\n",
        "    CheckList += Caracteres_8(cont)\n",
        "    CheckList += Caracteres_20(cont)\n",
        "    CheckList += Caracter_Especial(cont)\n",
        "    CheckList += Numeros3(cont)\n",
        "    CheckList += Mayusculas2(cont)\n",
        "    CheckList += NombresP(cont)\n",
        "    \n",
        "    # Ya que sumamos la cantidad de pasos que tuvieron \"Check\", podemos saber el criterio\n",
        "    if CheckList == 6:\n",
        "        Salida.append(\"Aceptada\")\n",
        "    else:\n",
        "        Salida.append(\"Rechazada\")\n",
        "    \n",
        "# Imprimimos el resultado final\n",
        "print(\"\\nEl resultado es el siguiente:\")\n",
        "print(Salida)"
      ],
      "execution_count": 24,
      "outputs": [
        {
          "output_type": "stream",
          "text": [
            "Contraseña: 'cuentapedro1431#' tiene un nombre propio\n",
            "Contraseña: 'Armando4523_prr#' tiene un nombre propio\n",
            "Contraseña: '&012_Sara_frlz_012' tiene un nombre propio\n",
            "Contraseña: 'rfRtgF123rfdsdd' no cuenta con al menos 1 caracter especial\n",
            "Contraseña: 'rfRtgF123rfdsdd' tiene un nombre propio\n",
            "Contraseña: 'micontraseña111#' tiene un nombre propio\n",
            "Contraseña: 'nombrenumero?TTTsfr$T' contiene más de 20 caracteres\n",
            "Contraseña: 'nombrenumero?TTTsfr$T' no cuenta con al menos 3 números\n",
            "Contraseña: 'nombrenumero?TTTsfr$T' tiene demasiadas mayúsculas seguidas\n",
            "Contraseña: 'nombrenumero?TTTsfr$T' tiene un nombre propio\n",
            "Contraseña: 'CrYtF34dWsRFGds12' no cuenta con al menos 1 caracter especial\n",
            "Contraseña: 'CrYtF34dWsRFGds12' tiene demasiadas mayúsculas seguidas\n",
            "Contraseña: 'CrYtF34dWsRFGds12' tiene un nombre propio\n",
            "Contraseña: 'DOREMIFA_music27&' no cuenta con al menos 3 números\n",
            "Contraseña: 'DOREMIFA_music27&' tiene demasiadas mayúsculas seguidas\n",
            "Contraseña: 'DOREMIFA_music27&' tiene un nombre propio\n",
            "\n",
            "El resultado es el siguiente:\n",
            "['Rechazada', 'Rechazada', 'Rechazada', 'Rechazada', 'Rechazada', 'Rechazada', 'Rechazada', 'Rechazada']\n"
          ],
          "name": "stdout"
        }
      ]
    }
  ]
}