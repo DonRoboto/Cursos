{
  "nbformat": 4,
  "nbformat_minor": 0,
  "metadata": {
    "colab": {
      "name": "Jorge Calvillo - ClasificacionSentimientosChallenge.ipynb",
      "provenance": [],
      "collapsed_sections": [],
      "include_colab_link": true
    },
    "kernelspec": {
      "name": "python3",
      "display_name": "Python 3"
    }
  },
  "cells": [
    {
      "cell_type": "markdown",
      "metadata": {
        "id": "view-in-github",
        "colab_type": "text"
      },
      "source": [
        "<a href=\"https://colab.research.google.com/github/DonRoboto/Cursos/blob/master/Jorge_Calvillo_ClasificacionSentimientosChallenge.ipynb\" target=\"_parent\"><img src=\"https://colab.research.google.com/assets/colab-badge.svg\" alt=\"Open In Colab\"/></a>"
      ]
    },
    {
      "cell_type": "markdown",
      "metadata": {
        "id": "vyY0I6qYJpfG",
        "colab_type": "text"
      },
      "source": [
        "# Procesamiento del Lenguaje Natural\n",
        "## Clasificación de sentimientos en opiniones\n",
        "En este ejercicio clasificarás reseñas sobre peliculas asignando una categoría positiva (a favor) o negativa (en contra). \n",
        "\n",
        "\n",
        "Bibliografía para el ejercicio:\n",
        "- https://keras.io/api/datasets/imdb/\n",
        "\n",
        "- https://www.kaggle.com/drscarlat/imdb-sentiment-analysis-keras-and-tensorflow"
      ]
    },
    {
      "cell_type": "code",
      "metadata": {
        "id": "7gGFT4iDP82B",
        "colab_type": "code",
        "colab": {}
      },
      "source": [
        "# Actualización a tensorflow 2.0\n",
        "from __future__ import absolute_import, division, print_function, unicode_literals\n",
        "import tensorflow as tf"
      ],
      "execution_count": 0,
      "outputs": []
    },
    {
      "cell_type": "code",
      "metadata": {
        "id": "O3UewbT8O_MM",
        "colab_type": "code",
        "colab": {}
      },
      "source": [
        "from tensorflow.keras.models import Sequential\n",
        "from tensorflow.keras.layers import Dense, Dropout\n",
        "from tensorflow.keras import backend\n",
        "from tensorflow.keras import optimizers\n",
        "from tensorflow.keras.datasets import imdb\n",
        "import numpy as np\n",
        "import matplotlib.pyplot as plt"
      ],
      "execution_count": 0,
      "outputs": []
    },
    {
      "cell_type": "code",
      "metadata": {
        "id": "HFU1I04oUhJP",
        "colab_type": "code",
        "colab": {}
      },
      "source": [
        "# Obtención de los datos.\n",
        "# Con numeroPalabras establecemos un límite del numero de palabras que tomaremos\n",
        "# en cuenta. En IMDB las palabras del vocabulario se encuentran ordenadas por frecuencia \n",
        "# de aparición. Al asignar num_words en 10,000 indicaremos que \n",
        "# consideraremos únicamente las primeras 10,000 palabras que más se repiten.\n",
        "numeroPalabras = 10000\n",
        "(x_train, y_train), (x_test, y_test) = imdb.load_data(num_words = numeroPalabras)"
      ],
      "execution_count": 0,
      "outputs": []
    },
    {
      "cell_type": "code",
      "metadata": {
        "id": "MYgQPzGSABO5",
        "colab_type": "code",
        "outputId": "b5a8cdcd-1e41-410e-9123-6787edda9456",
        "colab": {
          "base_uri": "https://localhost:8080/",
          "height": 35
        }
      },
      "source": [
        "# Tamaño del conjunto de entrenamiento.\n",
        "x_train.shape"
      ],
      "execution_count": 0,
      "outputs": [
        {
          "output_type": "execute_result",
          "data": {
            "text/plain": [
              "(25000,)"
            ]
          },
          "metadata": {
            "tags": []
          },
          "execution_count": 4
        }
      ]
    },
    {
      "cell_type": "code",
      "metadata": {
        "id": "yRNn_FGSADNL",
        "colab_type": "code",
        "outputId": "08740411-b319-41b7-8112-e3f436bb86f0",
        "colab": {
          "base_uri": "https://localhost:8080/",
          "height": 988
        }
      },
      "source": [
        "# Así se encuentra codificada una opinión en IMDB\n",
        "x_train[123]"
      ],
      "execution_count": 0,
      "outputs": [
        {
          "output_type": "execute_result",
          "data": {
            "text/plain": [
              "[1,\n",
              " 307,\n",
              " 5,\n",
              " 1301,\n",
              " 20,\n",
              " 1026,\n",
              " 2511,\n",
              " 87,\n",
              " 2775,\n",
              " 52,\n",
              " 116,\n",
              " 5,\n",
              " 31,\n",
              " 7,\n",
              " 4,\n",
              " 91,\n",
              " 1220,\n",
              " 102,\n",
              " 13,\n",
              " 28,\n",
              " 110,\n",
              " 11,\n",
              " 6,\n",
              " 137,\n",
              " 13,\n",
              " 115,\n",
              " 219,\n",
              " 141,\n",
              " 35,\n",
              " 221,\n",
              " 956,\n",
              " 54,\n",
              " 13,\n",
              " 16,\n",
              " 11,\n",
              " 2714,\n",
              " 61,\n",
              " 322,\n",
              " 423,\n",
              " 12,\n",
              " 38,\n",
              " 76,\n",
              " 59,\n",
              " 1803,\n",
              " 72,\n",
              " 8,\n",
              " 2,\n",
              " 23,\n",
              " 5,\n",
              " 967,\n",
              " 12,\n",
              " 38,\n",
              " 85,\n",
              " 62,\n",
              " 358,\n",
              " 99]"
            ]
          },
          "metadata": {
            "tags": []
          },
          "execution_count": 5
        }
      ]
    },
    {
      "cell_type": "code",
      "metadata": {
        "id": "Y_hR2-5lAL_B",
        "colab_type": "code",
        "outputId": "cd603dfe-cd69-4631-c117-5977561c928f",
        "colab": {
          "base_uri": "https://localhost:8080/",
          "height": 35
        }
      },
      "source": [
        "# La longitud de las opiniones cambia.\n",
        "\n",
        "# EJERCICIO \n",
        "# Inspecciona diferentes reseñas y corrobora como cambian sus tamaños.\n",
        "len(x_train[13456])"
      ],
      "execution_count": 0,
      "outputs": [
        {
          "output_type": "execute_result",
          "data": {
            "text/plain": [
              "68"
            ]
          },
          "metadata": {
            "tags": []
          },
          "execution_count": 6
        }
      ]
    },
    {
      "cell_type": "code",
      "metadata": {
        "id": "U_5VI07CAZ4_",
        "colab_type": "code",
        "outputId": "61322452-dff8-49c0-8e75-ef8ac0e0c558",
        "colab": {
          "base_uri": "https://localhost:8080/",
          "height": 35
        }
      },
      "source": [
        "# Visualización de las etiquetas\n",
        "y_train[456]"
      ],
      "execution_count": 0,
      "outputs": [
        {
          "output_type": "execute_result",
          "data": {
            "text/plain": [
              "0"
            ]
          },
          "metadata": {
            "tags": []
          },
          "execution_count": 7
        }
      ]
    },
    {
      "cell_type": "markdown",
      "metadata": {
        "id": "e4TIOtMxBdTX",
        "colab_type": "text"
      },
      "source": [
        "## Procesamiento de los datos - Vectorización"
      ]
    },
    {
      "cell_type": "code",
      "metadata": {
        "id": "xP-9NR-wTXZo",
        "colab_type": "code",
        "colab": {}
      },
      "source": [
        "# Diccionario de palabras.\n",
        "# Con este diccionario accedemos a los índices de las palabra. \n",
        "diccionarioPalabras = imdb.get_word_index()\n"
      ],
      "execution_count": 0,
      "outputs": []
    },
    {
      "cell_type": "code",
      "metadata": {
        "id": "Gib_P3XbUJVc",
        "colab_type": "code",
        "outputId": "85febfc1-db21-4d7d-eb70-2409a6d41a0b",
        "colab": {
          "base_uri": "https://localhost:8080/",
          "height": 35
        }
      },
      "source": [
        "# Obtención del índice asignado a la palabra \"movie\".\n",
        "diccionarioPalabras['movie']"
      ],
      "execution_count": 0,
      "outputs": [
        {
          "output_type": "execute_result",
          "data": {
            "text/plain": [
              "17"
            ]
          },
          "metadata": {
            "tags": []
          },
          "execution_count": 9
        }
      ]
    },
    {
      "cell_type": "code",
      "metadata": {
        "id": "n-XCt-kzUKms",
        "colab_type": "code",
        "colab": {}
      },
      "source": [
        "# Diccionario para acceder a la palabra a través del índice.\n",
        "indice2palabra = dict([(indice, palabra) for (palabra, indice) in diccionarioPalabras.items()])"
      ],
      "execution_count": 0,
      "outputs": []
    },
    {
      "cell_type": "code",
      "metadata": {
        "id": "e9aDd0OBUpdu",
        "colab_type": "code",
        "outputId": "1203a181-212a-41db-c0dc-dcdb2482a94b",
        "colab": {
          "base_uri": "https://localhost:8080/",
          "height": 35
        }
      },
      "source": [
        "# La palabra \"movie\" se encuentra en el lugar 17 de las que más se repiten.\n",
        "indice2palabra[17]"
      ],
      "execution_count": 0,
      "outputs": [
        {
          "output_type": "execute_result",
          "data": {
            "text/plain": [
              "'movie'"
            ]
          },
          "metadata": {
            "tags": []
          },
          "execution_count": 11
        }
      ]
    },
    {
      "cell_type": "code",
      "metadata": {
        "id": "1nqg3Aq0BD2z",
        "colab_type": "code",
        "colab": {}
      },
      "source": [
        "# EJERCICIO\n",
        "# ¿Cúal es la palabra que más se usa en las reseñas?"
      ],
      "execution_count": 0,
      "outputs": []
    },
    {
      "cell_type": "code",
      "metadata": {
        "id": "dAUtrXZTil1s",
        "colab_type": "code",
        "colab": {}
      },
      "source": [
        "# Recuerda que a los índices reales de las palabras se les ha sumado 3 \n",
        "# para evitar confundirlos con los índices 0, 1 y 2 que estan destinados a:\n",
        "# 0 -> palabras desconocidas\n",
        "# 1 -> palabra de inicio de todos los vectores de opiniones\n",
        "# 2 -> palabras fuera de las 10,000 que hemos indicado al inicio del ejercicio\n",
        "opinionDecodificada = ' '.join(\n",
        "[indice2palabra.get(i-3, '?') for i in x_train[123]])"
      ],
      "execution_count": 0,
      "outputs": []
    },
    {
      "cell_type": "code",
      "metadata": {
        "id": "J1MR1tIdi90c",
        "colab_type": "code",
        "outputId": "55ef09c8-0c6c-4a1e-e2ad-9c522fc9c289",
        "colab": {
          "base_uri": "https://localhost:8080/",
          "height": 55
        }
      },
      "source": [
        "opinionDecodificada"
      ],
      "execution_count": 0,
      "outputs": [
        {
          "output_type": "execute_result",
          "data": {
            "text/plain": [
              "'? beautiful and touching movie rich colors great settings good acting and one of the most charming movies i have seen in a while i never saw such an interesting setting when i was in china my wife liked it so much she asked me to ? on and rate it so other would enjoy too'"
            ]
          },
          "metadata": {
            "tags": []
          },
          "execution_count": 13
        }
      ]
    },
    {
      "cell_type": "code",
      "metadata": {
        "id": "KMSDQ59yi_Pj",
        "colab_type": "code",
        "colab": {}
      },
      "source": [
        "# Normalización de los vectores de opiniones\n",
        "def codifica1hot(opiniones):\n",
        "  # La dimensión de opinion1hot matriz será de 25000 filas, 10000 columnas\n",
        "  opinion1hot = np.zeros((opiniones.shape[0], numeroPalabras))\n",
        "  for opinion in range(opiniones.shape[0]):\n",
        "    for indice in opiniones[opinion]:\n",
        "      # Con el 1 indicamos que la palabra asociada a \"indice\" aparece en \"opinion\"\n",
        "      opinion1hot[opinion, indice] = 1\n",
        "  return opinion1hot"
      ],
      "execution_count": 0,
      "outputs": []
    },
    {
      "cell_type": "code",
      "metadata": {
        "id": "ZAiK5MVWCYIn",
        "colab_type": "code",
        "colab": {}
      },
      "source": [
        "# Normalización de los conjuntos de entrenamiento y test\n",
        "x_train_1hot = codifica1hot(x_train)\n",
        "x_test_1hot = codifica1hot(x_test)"
      ],
      "execution_count": 0,
      "outputs": []
    },
    {
      "cell_type": "code",
      "metadata": {
        "id": "K3eHuE4kCjAM",
        "colab_type": "code",
        "outputId": "f0b288d3-4a5c-44a3-ef70-0a73b5e30195",
        "colab": {
          "base_uri": "https://localhost:8080/",
          "height": 35
        }
      },
      "source": [
        "# Tamaño del conjunto nuevo de entrenamiento\n",
        "x_train_1hot.shape"
      ],
      "execution_count": 0,
      "outputs": [
        {
          "output_type": "execute_result",
          "data": {
            "text/plain": [
              "(25000, 10000)"
            ]
          },
          "metadata": {
            "tags": []
          },
          "execution_count": 16
        }
      ]
    },
    {
      "cell_type": "code",
      "metadata": {
        "id": "zkdi-d8zCmLy",
        "colab_type": "code",
        "outputId": "a751f1e7-d9e5-4f77-e12c-4b1515860413",
        "colab": {
          "base_uri": "https://localhost:8080/",
          "height": 139
        }
      },
      "source": [
        "# Tamaño del conjunto nuevo de test\n",
        "x_test_1hot"
      ],
      "execution_count": 0,
      "outputs": [
        {
          "output_type": "execute_result",
          "data": {
            "text/plain": [
              "array([[0., 1., 1., ..., 0., 0., 0.],\n",
              "       [0., 1., 1., ..., 0., 0., 0.],\n",
              "       [0., 1., 1., ..., 0., 0., 0.],\n",
              "       ...,\n",
              "       [0., 1., 1., ..., 0., 0., 0.],\n",
              "       [0., 1., 1., ..., 0., 0., 0.],\n",
              "       [0., 1., 1., ..., 0., 0., 0.]])"
            ]
          },
          "metadata": {
            "tags": []
          },
          "execution_count": 17
        }
      ]
    },
    {
      "cell_type": "markdown",
      "metadata": {
        "id": "VuA6ldkXDCQx",
        "colab_type": "text"
      },
      "source": [
        "## Generación del modelo"
      ]
    },
    {
      "cell_type": "code",
      "metadata": {
        "id": "oQPgxLmZTe5R",
        "colab_type": "code",
        "colab": {}
      },
      "source": [
        "# Con esta instrucción eliminamos información previa de los modelos.\n",
        "backend.clear_session()"
      ],
      "execution_count": 0,
      "outputs": []
    },
    {
      "cell_type": "code",
      "metadata": {
        "id": "sfqNqTlSCpRN",
        "colab_type": "code",
        "outputId": "b485dc8b-7f64-4808-f2ad-b01f50a6aeef",
        "colab": {
          "base_uri": "https://localhost:8080/",
          "height": 225
        }
      },
      "source": [
        "# Definición del modelo\n",
        "modelo = Sequential()\n",
        "\n",
        "modelo.add(Dense(30, use_bias=True, activation='sigmoid', input_shape=(numeroPalabras,)))\n",
        "modelo.add(Dense(1, use_bias=True, activation='sigmoid'))\n",
        "\n",
        "modelo.summary()"
      ],
      "execution_count": 0,
      "outputs": [
        {
          "output_type": "stream",
          "text": [
            "Model: \"sequential\"\n",
            "_________________________________________________________________\n",
            "Layer (type)                 Output Shape              Param #   \n",
            "=================================================================\n",
            "dense (Dense)                (None, 30)                300030    \n",
            "_________________________________________________________________\n",
            "dense_1 (Dense)              (None, 1)                 31        \n",
            "=================================================================\n",
            "Total params: 300,061\n",
            "Trainable params: 300,061\n",
            "Non-trainable params: 0\n",
            "_________________________________________________________________\n"
          ],
          "name": "stdout"
        }
      ]
    },
    {
      "cell_type": "code",
      "metadata": {
        "id": "_i0DrQ00DUGN",
        "colab_type": "code",
        "colab": {}
      },
      "source": [
        "# Definición del optimizador\n",
        "Adam = optimizers.Adam(lr=0.001, beta_1=0.9, beta_2=0.999, epsilon=1e-8, decay=0.0)\n",
        "# Compilación del modelo\n",
        "modelo.compile(optimizer=Adam, loss='binary_crossentropy', metrics=['accuracy'])"
      ],
      "execution_count": 0,
      "outputs": []
    },
    {
      "cell_type": "code",
      "metadata": {
        "id": "BcUeZodHDpzB",
        "colab_type": "code",
        "outputId": "b6c78da6-6bda-452f-9d57-39c3e9454529",
        "colab": {
          "base_uri": "https://localhost:8080/",
          "height": 211
        }
      },
      "source": [
        "# Entrenamiento\n",
        "M = modelo.fit(x_train_1hot, y_train, validation_data=(x_test_1hot, y_test), epochs=5,\n",
        "               batch_size = 30, shuffle = True, verbose = True)"
      ],
      "execution_count": 0,
      "outputs": [
        {
          "output_type": "stream",
          "text": [
            "Epoch 1/5\n",
            "834/834 [==============================] - 7s 9ms/step - loss: 0.3513 - accuracy: 0.8676 - val_loss: 0.2814 - val_accuracy: 0.8871\n",
            "Epoch 2/5\n",
            "834/834 [==============================] - 7s 8ms/step - loss: 0.2045 - accuracy: 0.9263 - val_loss: 0.2880 - val_accuracy: 0.8846\n",
            "Epoch 3/5\n",
            "834/834 [==============================] - 6s 7ms/step - loss: 0.1594 - accuracy: 0.9418 - val_loss: 0.3123 - val_accuracy: 0.8763\n",
            "Epoch 4/5\n",
            "834/834 [==============================] - 6s 8ms/step - loss: 0.1304 - accuracy: 0.9549 - val_loss: 0.3435 - val_accuracy: 0.8720\n",
            "Epoch 5/5\n",
            "834/834 [==============================] - 6s 7ms/step - loss: 0.1091 - accuracy: 0.9636 - val_loss: 0.3847 - val_accuracy: 0.8683\n"
          ],
          "name": "stdout"
        }
      ]
    },
    {
      "cell_type": "markdown",
      "metadata": {
        "id": "AccV_rBfaj9f",
        "colab_type": "text"
      },
      "source": [
        "## Evaluación del modelo"
      ]
    },
    {
      "cell_type": "code",
      "metadata": {
        "id": "xAZGCo9xan4Y",
        "colab_type": "code",
        "outputId": "83364264-7d4e-4e4a-f66a-aa1536cceb14",
        "colab": {
          "base_uri": "https://localhost:8080/",
          "height": 279
        }
      },
      "source": [
        "# Evaluar las graficas del accuracy (precisión) y del error es una buena práctica.\n",
        "# Estas graficas te dicen si el modelo necesita más épocas de entrenamiento, \n",
        "# si tienes overfitting o si es el óptimo.\n",
        "plt.plot(M.history['accuracy'], label='entrenamiento')\n",
        "plt.plot(M.history['val_accuracy'], label='validación')\n",
        "plt.legend(loc='best')\n",
        "plt.xlabel('epoca')\n",
        "plt.ylabel('accuracy')\n",
        "plt.show()"
      ],
      "execution_count": 0,
      "outputs": [
        {
          "output_type": "display_data",
          "data": {
            "image/png": "[encoded data removed]",
            "text/plain": [
              "<Figure size 432x288 with 1 Axes>"
            ]
          },
          "metadata": {
            "tags": [],
            "needs_background": "light"
          }
        }
      ]
    },
    {
      "cell_type": "code",
      "metadata": {
        "id": "rZSE89WxapRI",
        "colab_type": "code",
        "outputId": "2284a877-b685-469c-a9c7-b958ae5574d3",
        "colab": {
          "base_uri": "https://localhost:8080/",
          "height": 55
        }
      },
      "source": [
        "# Decodificación de una opinión.\n",
        "opinionPrueba = ' '.join([indice2palabra.get(i - 3, '?') for i in x_test[23400]])\n",
        "print(opinionPrueba)"
      ],
      "execution_count": 0,
      "outputs": [
        {
          "output_type": "stream",
          "text": [
            "? the reader is a perfect example of what a short film should be a poignant story told simply through well written dialog beautifully painted images a score that ? weaves it's way through the narrative and characters portrayed with ? and grace br br i saw this film at a festival where other interesting films and ideas were screened but none of the other shorts had all the elements of great film making coming together in one film as the reader did the reader ? the attention of every festival goer in the room and for 10 minutes took us into the emotional lives of the characters br br ? rogers has created a beautiful film and i hope to see more from this director be it more shorts or perhaps a feature length film\n"
          ],
          "name": "stdout"
        }
      ]
    },
    {
      "cell_type": "code",
      "metadata": {
        "id": "Oj3joNjMa9Ci",
        "colab_type": "code",
        "outputId": "28eedd16-2f74-47bf-e68f-102d85efbb2f",
        "colab": {
          "base_uri": "https://localhost:8080/",
          "height": 35
        }
      },
      "source": [
        "# Etiqueta de la opinión codificada.\n",
        "etiqueta = y_test[23400]\n",
        "print(etiqueta)"
      ],
      "execution_count": 0,
      "outputs": [
        {
          "output_type": "stream",
          "text": [
            "1\n"
          ],
          "name": "stdout"
        }
      ]
    },
    {
      "cell_type": "code",
      "metadata": {
        "id": "f4MOuMB-bTme",
        "colab_type": "code",
        "outputId": "a37f38eb-a644-422d-8c95-acd71a2549d4",
        "colab": {
          "base_uri": "https://localhost:8080/",
          "height": 35
        }
      },
      "source": [
        "# Clasificación de la opinión codificada.\n",
        "# Recuerda que el modelo únicamente acepta vectores de longitud 10,000.\n",
        "# Como tomamos una opinión del conjunto x_test y no de x_test_1hot, su \n",
        "# longitud no es de 10,000.\n",
        "# Además los elementos de x_test son listas (no arreglos), debido a esto\n",
        "# el primer paso será convertir la lista en un arreglo de numpy, luego\n",
        "# convertiremos el arreglo en una matriz de 1 fila x 10,000 columnas \n",
        "# y finalmente lo codificaremos con la función codifica1hot.\n",
        "opinionArreglo = np.array(x_test[23400]).reshape(1,len(x_test[23400]))\n",
        "opinion1hot = codifica1hot(opinionArreglo)\n",
        "clasificacion = modelo.predict(opinion1hot)\n",
        "print(clasificacion)"
      ],
      "execution_count": 0,
      "outputs": [
        {
          "output_type": "stream",
          "text": [
            "[[0.99846953]]\n"
          ],
          "name": "stdout"
        }
      ]
    }
  ]
}