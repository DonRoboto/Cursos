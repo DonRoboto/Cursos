{
  "nbformat": 4,
  "nbformat_minor": 0,
  "metadata": {
    "kernelspec": {
      "display_name": "Python [conda env:deeplearning-cpu]",
      "language": "python",
      "name": "conda-env-deeplearning-cpu-py"
    },
    "language_info": {
      "codemirror_mode": {
        "name": "ipython",
        "version": 3
      },
      "file_extension": ".py",
      "mimetype": "text/x-python",
      "name": "python",
      "nbconvert_exporter": "python",
      "pygments_lexer": "ipython3",
      "version": "3.5.2"
    },
    "colab": {
      "name": "Jorge Calvillo - BostonChallenge.ipynb",
      "provenance": [],
      "collapsed_sections": [],
      "include_colab_link": true
    }
  },
  "cells": [
    {
      "cell_type": "markdown",
      "metadata": {
        "id": "view-in-github",
        "colab_type": "text"
      },
      "source": [
        "<a href=\"https://colab.research.google.com/github/DonRoboto/Cursos/blob/master/Jorge_Calvillo_BostonChallenge.ipynb\" target=\"_parent\"><img src=\"https://colab.research.google.com/assets/colab-badge.svg\" alt=\"Open In Colab\"/></a>"
      ]
    },
    {
      "cell_type": "markdown",
      "metadata": {
        "deletable": true,
        "editable": true,
        "id": "JLbXXcHrlU_t",
        "colab_type": "text"
      },
      "source": [
        "# Construcción de modelos con Keras"
      ]
    },
    {
      "cell_type": "markdown",
      "metadata": {
        "deletable": true,
        "editable": true,
        "id": "TnzSL8OLlU_v",
        "colab_type": "text"
      },
      "source": [
        "En este ejercicio implementarás regresión múltiple para predecir el precio de casas ubicadas en Bostón.\n",
        "Se considera múltiple porque el precio de una casa depende de más de una característica.\n",
        "Definirás la(s) MLP(s) que tu propongas y entrenarás con los datos y precios del conjunto de entrenamiento. Esperarás que el modelo aprenda el \"patrón\" que modela los precios. Por ejemplo, que una casa con bajo índice de criminalidad (CRIM) y un alto grado de industrialización (INDUS) vale más que otra con alto CRIM y bajo INDUS.\n",
        "La magia de los modelos de Deep Learning es que estas \"reglas\" no las tienes que indicar explicitamente al modelo (como sí lo harías si no emplearas Machine Learning). La MLP a través del entrenamiento las determina. Incluso es capas de determinar (aprender) reglas que no son tan fáciles de ver en los datos.\n",
        "### Let's go!"
      ]
    },
    {
      "cell_type": "code",
      "metadata": {
        "deletable": true,
        "editable": true,
        "id": "3VtMeMV9lU_w",
        "colab_type": "code",
        "outputId": "d24a2a0c-7516-43e4-88ae-b373c0dbf485",
        "colab": {
          "base_uri": "https://localhost:8080/",
          "height": 34
        }
      },
      "source": [
        "import matplotlib.pyplot as plt           # Librería para graficar    \n",
        "import numpy as np                        # Librería para cálculos matemáticos con arreglos\n",
        "from sklearn.datasets import load_boston  # Función para descargar la base de datos\n",
        "# EJERCICIO\n",
        "# Incluye aquí las funciones de keras\n",
        "from keras.models import Sequential\n",
        "from keras.layers import Dense\n",
        "from keras import optimizers\n",
        "from keras import backend \n",
        "# Incluye el método de sklearn para dividir los datos en entrenamiento (train) y prueba (test)\n",
        "from sklearn.model_selection import train_test_split"
      ],
      "execution_count": 0,
      "outputs": [
        {
          "output_type": "stream",
          "text": [
            "Using TensorFlow backend.\n"
          ],
          "name": "stderr"
        }
      ]
    },
    {
      "cell_type": "markdown",
      "metadata": {
        "id": "3at-jKEMsYkI",
        "colab_type": "text"
      },
      "source": [
        "Para este ejercicio la base de datos esta precargada en la librería de sklearn. Sin embargo, representa datos reales recolectados en Bostón, EUA.\n",
        "El link de la base de datos es:\n",
        "- This is a copy of UCI ML housing dataset:\n",
        "https://archive.ics.uci.edu/ml/machine-learning-databases/housing/\n"
      ]
    },
    {
      "cell_type": "code",
      "metadata": {
        "deletable": true,
        "editable": true,
        "id": "PDtlo0wulU_3",
        "colab_type": "code",
        "colab": {}
      },
      "source": [
        "# Lectura de los datos de las casas ubicadas en Boston\n",
        "boston_data = load_boston()   # Esta función devuelve los datos"
      ],
      "execution_count": 0,
      "outputs": []
    },
    {
      "cell_type": "code",
      "metadata": {
        "deletable": true,
        "editable": true,
        "id": "mVWyLThTlU_8",
        "colab_type": "code",
        "outputId": "43e7d151-254d-4cc3-9a4d-98b16e6b8d7c",
        "colab": {
          "base_uri": "https://localhost:8080/",
          "height": 966
        }
      },
      "source": [
        "# La propiedad DESC nos describe las caracteristicas de las que depende el modelo.\n",
        "# Las características son desde CRIM a la LSTAT\n",
        "# El precio de las casas esta en la varibale MEDV\n",
        "print(boston_data.DESCR)"
      ],
      "execution_count": 0,
      "outputs": [
        {
          "output_type": "stream",
          "text": [
            ".. _boston_dataset:\n",
            "\n",
            "Boston house prices dataset\n",
            "---------------------------\n",
            "\n",
            "**Data Set Characteristics:**  \n",
            "\n",
            "    :Number of Instances: 506 \n",
            "\n",
            "    :Number of Attributes: 13 numeric/categorical predictive. Median Value (attribute 14) is usually the target.\n",
            "\n",
            "    :Attribute Information (in order):\n",
            "        - CRIM     per capita crime rate by town\n",
            "        - ZN       proportion of residential land zoned for lots over 25,000 sq.ft.\n",
            "        - INDUS    proportion of non-retail business acres per town\n",
            "        - CHAS     Charles River dummy variable (= 1 if tract bounds river; 0 otherwise)\n",
            "        - NOX      nitric oxides concentration (parts per 10 million)\n",
            "        - RM       average number of rooms per dwelling\n",
            "        - AGE      proportion of owner-occupied units built prior to 1940\n",
            "        - DIS      weighted distances to five Boston employment centres\n",
            "        - RAD      index of accessibility to radial highways\n",
            "        - TAX      full-value property-tax rate per $10,000\n",
            "        - PTRATIO  pupil-teacher ratio by town\n",
            "        - B        1000(Bk - 0.63)^2 where Bk is the proportion of blacks by town\n",
            "        - LSTAT    % lower status of the population\n",
            "        - MEDV     Median value of owner-occupied homes in $1000's\n",
            "\n",
            "    :Missing Attribute Values: None\n",
            "\n",
            "    :Creator: Harrison, D. and Rubinfeld, D.L.\n",
            "\n",
            "This is a copy of UCI ML housing dataset.\n",
            "https://archive.ics.uci.edu/ml/machine-learning-databases/housing/\n",
            "\n",
            "\n",
            "This dataset was taken from the StatLib library which is maintained at Carnegie Mellon University.\n",
            "\n",
            "The Boston house-price data of Harrison, D. and Rubinfeld, D.L. 'Hedonic\n",
            "prices and the demand for clean air', J. Environ. Economics & Management,\n",
            "vol.5, 81-102, 1978.   Used in Belsley, Kuh & Welsch, 'Regression diagnostics\n",
            "...', Wiley, 1980.   N.B. Various transformations are used in the table on\n",
            "pages 244-261 of the latter.\n",
            "\n",
            "The Boston house-price data has been used in many machine learning papers that address regression\n",
            "problems.   \n",
            "     \n",
            ".. topic:: References\n",
            "\n",
            "   - Belsley, Kuh & Welsch, 'Regression diagnostics: Identifying Influential Data and Sources of Collinearity', Wiley, 1980. 244-261.\n",
            "   - Quinlan,R. (1993). Combining Instance-Based and Model-Based Learning. In Proceedings on the Tenth International Conference of Machine Learning, 236-243, University of Massachusetts, Amherst. Morgan Kaufmann.\n",
            "\n"
          ],
          "name": "stdout"
        }
      ]
    },
    {
      "cell_type": "code",
      "metadata": {
        "id": "8wi4CeLdyQxt",
        "colab_type": "code",
        "colab": {}
      },
      "source": [
        "# Aquí haremos la separación de las características los valores deseados\n",
        "x = boston_data['data']       # Esta matriz contendrá las características de las que depende el precio de una casa\n",
        "y = boston_data['target']     # Este vector contendrá los precios de las casas de Bostón. \"y\" es el target o valor deseado "
      ],
      "execution_count": 0,
      "outputs": []
    },
    {
      "cell_type": "code",
      "metadata": {
        "id": "CnCKP4S-yger",
        "colab_type": "code",
        "outputId": "5b4acfe7-7d51-4b6b-d418-44c0204dfaa1",
        "colab": {
          "base_uri": "https://localhost:8080/",
          "height": 51
        }
      },
      "source": [
        "print('Contamos con: {} registros'.format(x.shape[0]))\n",
        "print('Cada registro cuenta con: {} características'.format(x.shape[1]))"
      ],
      "execution_count": 0,
      "outputs": [
        {
          "output_type": "stream",
          "text": [
            "Contamos con: 506 registros\n",
            "Cada registro cuenta con: 13 características\n"
          ],
          "name": "stdout"
        }
      ]
    },
    {
      "cell_type": "code",
      "metadata": {
        "deletable": true,
        "editable": true,
        "id": "EtKq-ltnlVAD",
        "colab_type": "code",
        "outputId": "5afb6c7d-4129-4646-de9e-2c473e9d32ff",
        "colab": {
          "base_uri": "https://localhost:8080/",
          "height": 295
        }
      },
      "source": [
        "# Análisis Exploratorio de Datos \n",
        "# Graficaremos los precios para las 506 casas. Esto te servirá para visualizar la cantidad de casas que tienen un precio bajo y alto.\n",
        "n_elementos = x.shape[0]                              # Esta variable contiene el valor del numero total de casas: 506                        \n",
        "x_vector = np.linspace(0,n_elementos-1, n_elementos)  # Este vector contiene valores desde el 0 hasta el 505. Nos servirá para graficar los precios de las casas\n",
        "plt.scatter(x_vector,y)\n",
        "plt.title('Precios de casas en Bostón')\n",
        "plt.xlabel('numero de casa')\n",
        "plt.ylabel('precio Kdls')\n",
        "plt.show()"
      ],
      "execution_count": 0,
      "outputs": [
        {
          "output_type": "display_data",
          "data": {
            "image/png": "[encoded data removed]",
            "text/plain": [
              "<Figure size 432x288 with 1 Axes>"
            ]
          },
          "metadata": {
            "tags": [],
            "needs_background": "light"
          }
        }
      ]
    },
    {
      "cell_type": "markdown",
      "metadata": {
        "id": "RDUb9F4O0Nov",
        "colab_type": "text"
      },
      "source": [
        "## Procesamiento de los datos"
      ]
    },
    {
      "cell_type": "code",
      "metadata": {
        "id": "C0CYP7sworGA",
        "colab_type": "code",
        "colab": {}
      },
      "source": [
        "# EJERCICIO\n",
        "# Divide las características \"x\" y precios \"y\" en dos conjuntos: para entrenamiento y prueba\n",
        "# Considera un 15% de los datos para el conjunto de test \n",
        "x_train, x_test, y_train, y_test = train_test_split(x, y, test_size=0.15)"
      ],
      "execution_count": 0,
      "outputs": []
    },
    {
      "cell_type": "code",
      "metadata": {
        "id": "tcXKn8ftowhW",
        "colab_type": "code",
        "outputId": "81cd9c3d-fee6-4b7b-ce95-85294fcc0685",
        "colab": {
          "base_uri": "https://localhost:8080/",
          "height": 85
        }
      },
      "source": [
        "print('El numero de registros en el conjunto x_train es:', x_train.shape[0])\n",
        "print('El numero de registros en el conjunto y_train es:', y_train.shape[0])\n",
        "print('El numero de registros en el conjunto x_test es:', x_test.shape[0])\n",
        "print('El numero de registros en el conjunto y_test es:', y_test.shape[0])"
      ],
      "execution_count": 0,
      "outputs": [
        {
          "output_type": "stream",
          "text": [
            "El numero de registros en el conjunto x_train es: 430\n",
            "El numero de registros en el conjunto y_train es: 430\n",
            "El numero de registros en el conjunto x_test es: 76\n",
            "El numero de registros en el conjunto y_test es: 76\n"
          ],
          "name": "stdout"
        }
      ]
    },
    {
      "cell_type": "markdown",
      "metadata": {
        "id": "w5ZmsoZo0TEc",
        "colab_type": "text"
      },
      "source": [
        "## Creación del modelo"
      ]
    },
    {
      "cell_type": "code",
      "metadata": {
        "id": "hc2OODlQowgU",
        "colab_type": "code",
        "outputId": "21d1e81d-49e7-4088-d50f-01e52507674e",
        "colab": {
          "base_uri": "https://localhost:8080/",
          "height": 34
        }
      },
      "source": [
        "# EJERCICIO\n",
        "# Escribe la instrucción que elimina los modelos creados con keras \n",
        "# Recuerda que es necesario eliminar el modelo cada que se desee volver a entrenar\n",
        "backend"
      ],
      "execution_count": 0,
      "outputs": [
        {
          "output_type": "execute_result",
          "data": {
            "text/plain": [
              "<module 'keras.backend' from '/usr/local/lib/python3.6/dist-packages/keras/backend/__init__.py'>"
            ]
          },
          "metadata": {
            "tags": []
          },
          "execution_count": 8
        }
      ]
    },
    {
      "cell_type": "code",
      "metadata": {
        "id": "aLMX3dT2oweq",
        "colab_type": "code",
        "outputId": "de6420ac-573d-4b6a-f10a-edeb6bae38dc",
        "colab": {
          "base_uri": "https://localhost:8080/",
          "height": 255
        }
      },
      "source": [
        "# EJERCICIO\n",
        "# Define aqui tu modelo. Puedes construirlo desde 1 capa, 2 capas (1 capa oculta y 1 de salida) o las que tu quieras. \n",
        "# Tip 1: comienza con modelos pequeños y luego aumentas su tamaño. \n",
        "# Tip 2: Como los precios de las casas estan fuera del rango de (0,1) no será posible usar funciones sigmoide o tangente hiperbólica. \n",
        "# Para usar estas funciones debimos de escalar los precios de las casas para que esten entre 0 y 1. Sin embargo es posible \n",
        "# manejar los datos en su forma original (sin escalar) si se utilizan funciones de activación que lo permitan.\n",
        "# Aqui puedes utilizar funciones 'linear' o 'relu' en las que su salida puede ofrecer valores mayores a 1.\n",
        "\n",
        "# RECUERDA QUE ÚNICAMENTE LA PRIMER CAPA DEBE LLEVAR EL PARÁMETRO: input_shape = (numero_de_características,)\n",
        "\n",
        "modelo_1 = Sequential()\n",
        "modelo_1.add(Dense(64, use_bias=True, activation='relu', input_shape=(13,))) \n",
        "modelo_1.add(Dense(32, use_bias=True, activation='relu')) \n",
        "modelo_1.add(Dense(1)) \n",
        "# Fin de la definición del modelo\n",
        "\n",
        "# La siguiente línea de código es para mostrar la tabla con las características del modelo\n",
        "modelo_1.summary()"
      ],
      "execution_count": 0,
      "outputs": [
        {
          "output_type": "stream",
          "text": [
            "Model: \"sequential_1\"\n",
            "_________________________________________________________________\n",
            "Layer (type)                 Output Shape              Param #   \n",
            "=================================================================\n",
            "dense_1 (Dense)              (None, 64)                896       \n",
            "_________________________________________________________________\n",
            "dense_2 (Dense)              (None, 32)                2080      \n",
            "_________________________________________________________________\n",
            "dense_3 (Dense)              (None, 1)                 33        \n",
            "=================================================================\n",
            "Total params: 3,009\n",
            "Trainable params: 3,009\n",
            "Non-trainable params: 0\n",
            "_________________________________________________________________\n"
          ],
          "name": "stdout"
        }
      ]
    },
    {
      "cell_type": "code",
      "metadata": {
        "deletable": true,
        "editable": true,
        "id": "Jk5I84_XlVAI",
        "colab_type": "code",
        "colab": {}
      },
      "source": [
        "# EJERCICIO\n",
        "# Define el optimizador Adam\n",
        "adam = optimizers.Adam(learning_rate=0.001, beta_1=0.9, beta_2=0.999, decay=0, epsilon=1e-8)"
      ],
      "execution_count": 0,
      "outputs": []
    },
    {
      "cell_type": "code",
      "metadata": {
        "id": "i--5PrVx27IC",
        "colab_type": "code",
        "colab": {}
      },
      "source": [
        "# EJERCICIO\n",
        "# Compila el modelo definiendo el optimizador \"adam\", la función de costo (loss) como el promedio del cuadrado de los errores \"mean_squared_error\"\n",
        "# y la metrica como el \"mse\"\n",
        "modelo_1.compile(optimizer=adam, loss='mean_squared_error', metrics=['mse'])"
      ],
      "execution_count": 0,
      "outputs": []
    },
    {
      "cell_type": "code",
      "metadata": {
        "id": "hYjsFRTVpiLb",
        "colab_type": "code",
        "colab": {}
      },
      "source": [
        "# EJERCICIO\n",
        "# Entrena el modelo eligiendo un número de epocas y los datos de entrenamiento y validación\n",
        "# Recuerda que guardamos el entrenamiento en una variable para poder graficar el error\n",
        "M = modelo_1.fit(x_train, y_train, validation_data=(x_test, y_test), epochs=1000, verbose=0)"
      ],
      "execution_count": 0,
      "outputs": []
    },
    {
      "cell_type": "code",
      "metadata": {
        "id": "d3NE3qFkp3Sd",
        "colab_type": "code",
        "outputId": "6f4fada1-0e2a-4383-e0e7-ea89a77fc120",
        "colab": {
          "base_uri": "https://localhost:8080/",
          "height": 295
        }
      },
      "source": [
        "# Grafica de la evolución del error a traves de cada época\n",
        "# Recuerda que esta gráfica te da la pauta para saber si debes aumentar el numero de epocas, entrenar de nuevo o quedarte con el modelo\n",
        "plt.plot(M.history['loss'], label = 'error en entrenamiento')\n",
        "plt.plot(M.history['val_loss'], label = 'error en validacion')\n",
        "plt.title('Evolución del error en cada epoca')\n",
        "plt.xlabel('epoca')\n",
        "plt.ylabel('error')\n",
        "plt.show()"
      ],
      "execution_count": 0,
      "outputs": [
        {
          "output_type": "display_data",
          "data": {
            "image/png": "[encoded data removed]",
            "text/plain": [
              "<Figure size 432x288 with 1 Axes>"
            ]
          },
          "metadata": {
            "tags": [],
            "needs_background": "light"
          }
        }
      ]
    },
    {
      "cell_type": "markdown",
      "metadata": {
        "id": "JW8xlOoL3zmw",
        "colab_type": "text"
      },
      "source": [
        "## Evaluación del modelo\n",
        "En esta sección realizaremos pruebas sobre el modelo."
      ]
    },
    {
      "cell_type": "code",
      "metadata": {
        "deletable": true,
        "editable": true,
        "id": "q1Mmud-dlVBa",
        "colab_type": "code",
        "outputId": "c16372be-e943-49cf-f09f-bcfe36d28a2d",
        "colab": {
          "base_uri": "https://localhost:8080/",
          "height": 34
        }
      },
      "source": [
        "# Ejecutamos una predicción sobre la información de la casa 100 \n",
        "registro_casa_100 = x[100]    # extraemos la información de la casa 100\n",
        "registro_casa_100 = registro_casa_100.reshape(1,13) # transformamos la variable a dos dimensional. Esto será necesario para ocuparla dentro del modelo\n",
        "valor_real_100 = y[100]       # este es el precio real de la casa\n",
        "\n",
        "# EJERCICIO\n",
        "# Ejecuta el metodo predict de tu modelo y guarda la predicción en la varibale prediccion_100\n",
        "prediccion_100 =  modelo_1.predict(registro_casa_100)\n",
        "print('La casa 100 tiene un costo real de {} klds, el modelo predice el costo en {} kdls'.format(valor_real_100, prediccion_100))"
      ],
      "execution_count": 0,
      "outputs": [
        {
          "output_type": "stream",
          "text": [
            "La casa 100 tiene un costo real de 27.5 klds, el modelo predice el costo en [[23.268444]] kdls\n"
          ],
          "name": "stdout"
        }
      ]
    },
    {
      "cell_type": "code",
      "metadata": {
        "id": "XO30Zjm241t8",
        "colab_type": "code",
        "outputId": "0f4253a4-93f7-47f3-d976-3d93a698709d",
        "colab": {
          "base_uri": "https://localhost:8080/",
          "height": 34
        }
      },
      "source": [
        "# Ejecutamos una predicción sobre una casa imaginaria que tiene los siguientes datos \n",
        "casa_de_mis_suenos = np.array([[0.2, 0.001, 10.5, 0, 0.5, 6.3, 42.5, 3.9, 4, 280, 19, 380, 11]])\n",
        "\n",
        "# EJERCICIO\n",
        "# Ejecuta el metodo predict de tu modelo sobre las características de la casa de mis sueños y guarda el valor en prediccion_mi_casa\n",
        "prediccion_mi_casa = modelo_1.predict(casa_de_mis_suenos)\n",
        "print('La casa de mis sueños tiene un costo de {} kdls'.format(prediccion_mi_casa))\n"
      ],
      "execution_count": 0,
      "outputs": [
        {
          "output_type": "stream",
          "text": [
            "La casa de mis sueños tiene un costo de [[22.716105]] kdls\n"
          ],
          "name": "stdout"
        }
      ]
    },
    {
      "cell_type": "code",
      "metadata": {
        "deletable": true,
        "editable": true,
        "id": "X0RSuEVZlVAX",
        "colab_type": "code",
        "colab": {}
      },
      "source": [
        "# Evaluación general\n",
        "# Esta será una evaluación general del modelo con los datos de todas las casas\n",
        "\n",
        "# EJERCICIO\n",
        "# Ejecuta la predición de todas las casas (modelo_1.predict(x) -> ya que x guarda los datos de todas las casas).\n",
        "# Almacena las predicciones en predicciones_506_casas\n",
        "predicciones_506_casas = modelo_1.predict(x)"
      ],
      "execution_count": 0,
      "outputs": []
    },
    {
      "cell_type": "code",
      "metadata": {
        "id": "33QLhf6U8U6C",
        "colab_type": "code",
        "outputId": "7260234d-a094-42a9-f2d7-a98150e7c8e0",
        "colab": {
          "base_uri": "https://localhost:8080/",
          "height": 279
        }
      },
      "source": [
        "# Las siguientes lineas de código graficaran en azul los precios reales y en anaranjado los precios que el modelo predice.\n",
        "# Si tienes un modelo perfecto la dos graficas deberán superponerse. Si no logras esto no de desanimes, casi nunca sucede esto\n",
        "# en Machine Learning :(\n",
        "plt.scatter(x_vector, y, label='real')\n",
        "plt.scatter(x_vector, predicciones_506_casas, label='prediccion')\n",
        "plt.legend(loc='lower right')\n",
        "plt.xlabel('numero de casa')\n",
        "plt.ylabel('precio Kdls')\n",
        "plt.show()"
      ],
      "execution_count": 0,
      "outputs": [
        {
          "output_type": "display_data",
          "data": {
            "image/png": "[encoded data removed]",
            "text/plain": [
              "<Figure size 432x288 with 1 Axes>"
            ]
          },
          "metadata": {
            "tags": [],
            "needs_background": "light"
          }
        }
      ]
    },
    {
      "cell_type": "code",
      "metadata": {
        "id": "nRCkLJeU80cx",
        "colab_type": "code",
        "outputId": "5f8cdf5e-1828-4300-a278-c8d2edcbd708",
        "colab": {
          "base_uri": "https://localhost:8080/",
          "height": 51
        }
      },
      "source": [
        "# Una forma numerica de evaluar un modelo es con el score r2. Entre más cercana se encuentre la métrica al 1 el modelo tendrá buen desempeño\n",
        "# si el modelo es malo r2 tendra valores cercanos a 0 o serán incluso negativos.\n",
        "# Conoce el score r2 de tu modelo\n",
        "\n",
        "from sklearn.metrics import r2_score\n",
        "\n",
        "r2 = r2_score(y, predicciones_506_casas)\n",
        "print(\"El r2 de tu modelo es:\", r2)\n",
        "\n",
        "# EJERCICIO PLUS\n",
        "# Calcular el r2 unicamente con datos de test\n",
        "y_test_pred = modelo_1.predict(x_test)\n",
        "r2_val = r2_score(y_test, y_test_pred)\n",
        "print(\"El r2 de tu modelo en validacion es:\", r2_val)"
      ],
      "execution_count": 0,
      "outputs": [
        {
          "output_type": "stream",
          "text": [
            "El r2 de tu modelo es: 0.9013524905089532\n",
            "El r2 de tu modelo en validacion es: 0.8802594366380225\n"
          ],
          "name": "stdout"
        }
      ]
    },
    {
      "cell_type": "code",
      "metadata": {
        "id": "Xqnj12yE-cT4",
        "colab_type": "code",
        "colab": {}
      },
      "source": [
        ""
      ],
      "execution_count": 0,
      "outputs": []
    }
  ]
}