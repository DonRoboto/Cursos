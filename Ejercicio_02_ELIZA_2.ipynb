{
  "nbformat": 4,
  "nbformat_minor": 0,
  "metadata": {
    "kernelspec": {
      "display_name": "Python 3",
      "language": "python",
      "name": "python3"
    },
    "language_info": {
      "codemirror_mode": {
        "name": "ipython",
        "version": 3
      },
      "file_extension": ".py",
      "mimetype": "text/x-python",
      "name": "python",
      "nbconvert_exporter": "python",
      "pygments_lexer": "ipython3",
      "version": "3.7.7"
    },
    "colab": {
      "name": "Ejercicio_02.- ELIZA 2.ipynb",
      "provenance": [],
      "include_colab_link": true
    }
  },
  "cells": [
    {
      "cell_type": "markdown",
      "metadata": {
        "id": "view-in-github",
        "colab_type": "text"
      },
      "source": [
        "<a href=\"https://colab.research.google.com/github/DonRoboto/Cursos/blob/master/Ejercicio_02_ELIZA_2.ipynb\" target=\"_parent\"><img src=\"https://colab.research.google.com/assets/colab-badge.svg\" alt=\"Open In Colab\"/></a>"
      ]
    },
    {
      "cell_type": "markdown",
      "metadata": {
        "id": "Ec4EDkbv5F8C",
        "colab_type": "text"
      },
      "source": [
        "# Ejercicio 02: La venganza de Eliza "
      ]
    },
    {
      "cell_type": "markdown",
      "metadata": {
        "id": "d5qdwvTz5F8G",
        "colab_type": "text"
      },
      "source": [
        "### Instrucciones:\n",
        "\n",
        "Desarrollar un programa, utilizando recursos de SpaCy que pueda simula el comportamiento de ELIZA (El primer ChatBot de la historia) apegándose a los siguientes puntos:\n",
        "\n",
        "- Que de un saludo inicial antes de comenzar a hablr contigo\n",
        "- Que el ChatBot sea capaz de salir de la conversación cuando el usuario le diga la plabra \"adios\" en la conversación y emitir una despedida después de ello\n",
        "- Que pueda contestar ante frases que incluyan el verbo sentir, ser, tener o estar EN 1RA PERSONA y un adjetivo como: \"me siento {terrible}\", o \"estoy {feliz}\", o \"tengo {miedo}\", con la siguiente repuesta por parte del Eliza2: \"Y dime, porqué te sientes {adjetivo}\", o \"Y dime, porqué eres {adjetivo}\", según cada verbo. Notar que ante frases como: \"siento que la economía está mal\", a pesar de que aparece el verbo sentir, no debería de contestar de la forma antes mencionada, tampoco \"tienes razón\" ya que el verbo no se encuentra en 1ra persona. NOTA: Los verbos no necesariamente tienen que estar en infinitivo (Puedes decir algo como \"Tuve problemas en mi trabajo la semana pasada\"), y debería ser capaz de contestar correctamente.\n",
        "- Si el usuario dice las palabras mi o mís, seguidas de un sustantivo, el ChatBot debería contestar con la frase \"Háblame más sobre tu/tus {sustantivo}\"\n",
        "- Finalmente, si la persona menciona algo que ocurrió en el pasado, por ejemplo, \"Mi familia me dijo que no era especial\", el ChatBot deberá contestar lo siguiente: \"El pasado no es importante, sino lo que hagas en el presente\", si por el contrario, se menciona el futuro, el ChatBot deberá decir \"Tú eres el único constructor de tu futuro\"\n",
        "\n",
        "Pistas:\n",
        "\n",
        "Puedes utiizar de base el siguiente código:\n",
        "\n",
        "##### Se manda a llamar de manera constante la interacción entre el usuario y Eliza2\n",
        "\n",
        "##### Saludo inicial de Eliza2\n",
        "usuario = \"\"\n",
        "\n",
        "print(\"Eliza 2: Hola, mi nombre es Eliza 2 y estoy aquí para hablar contigo y que me cuentes tus problemas y así.\")\n",
        "\n",
        "#### Funcionamiento del ChatBot hasta que se le diga la palabra Salir a Eliza\n",
        "while usuario != \"salir\":\n",
        "\n",
        "    usuario = input(\"\\nEliza 2: ¿Cuéntame más, qué me quieres decir?\")\n",
        "    ########\n",
        "    # La entrada del usuario (un string) la debes usar en esta sección para\n",
        "    # desarrollar el código con los métodos que decidirán las respuestas que \n",
        "    # deberá de contestar Eliza 2\n",
        "    ########\n",
        "#### Despedida del ChatBot\n",
        "print(\"\\nEliza 2: Hasta luego, fue un gusto poder haber hablado contigo, espero que estés bien.\")\n",
        "\n",
        "\n",
        "Recuerda que es necesario utilizar atributos de SpaCy para realizar este ejercicio, el más importante será .tag_ aplicado a los tokens que saques de las interacciones con el usuario\n"
      ]
    },
    {
      "cell_type": "code",
      "metadata": {
        "id": "zn6F6Aaa5F8L",
        "colab_type": "code",
        "colab": {
          "base_uri": "https://localhost:8080/",
          "height": 52
        },
        "outputId": "f3e0b954-59f1-4d15-a3e9-3d5a0a567786"
      },
      "source": [
        "import spacy.cli\n",
        "spacy.cli.download(\"es_core_news_sm\")"
      ],
      "execution_count": 2,
      "outputs": [
        {
          "output_type": "stream",
          "text": [
            "\u001b[38;5;2m✔ Download and installation successful\u001b[0m\n",
            "You can now load the model via spacy.load('es_core_news_sm')\n"
          ],
          "name": "stdout"
        }
      ]
    },
    {
      "cell_type": "code",
      "metadata": {
        "id": "WIheK7ilB9-M",
        "colab_type": "code",
        "colab": {}
      },
      "source": [
        "# Importamos SpaCy para trabajar con sus propiedades\n",
        "import spacy\n",
        "pln_es = spacy.load(\"es_core_news_sm\")"
      ],
      "execution_count": 0,
      "outputs": []
    },
    {
      "cell_type": "code",
      "metadata": {
        "id": "vPQvVg2I5F8l",
        "colab_type": "code",
        "colab": {}
      },
      "source": [
        "def Sentimiento(texto):\n",
        "    Estado = 0\n",
        "    for i in range(len(texto)):\n",
        "        if ((texto[i].lemma_ == \"sentir\" or texto[i].lemma_ == \"ser\" or texto[i].lemma_ == \"estar\" or texto[i].lemma_ == \"tener\") and (texto[i].pos_ == \"VERB\" or texto[i].pos_ == \"AUX\")):\n",
        "            if texto[i].tag_.find('Person=1') > 0:\n",
        "                if texto[i+1].pos_ == \"ADJ\" or texto[i+1].pos_ == \"NOUN\" or texto[i+1].pos_ == \"ADV\":\n",
        "                    if texto[i].lemma_ == \"sentir\":\n",
        "                        verbo = \"te sientes\"\n",
        "                    if texto[i].lemma_ == \"ser\":\n",
        "                        verbo = \"eres\"\n",
        "                    if texto[i].lemma_ == \"estar\":\n",
        "                        verbo = \"estás\"\n",
        "                    if texto[i].lemma_ == \"tener\":\n",
        "                        verbo = \"tienes\"\n",
        "                    print(\"\\nEliza 2: Y dime, ¿Porqué \" + verbo + \" \" + texto[i+1].text + \"?\")\n",
        "                    Estado = 1\n",
        "    return Estado"
      ],
      "execution_count": 0,
      "outputs": []
    },
    {
      "cell_type": "code",
      "metadata": {
        "id": "xEVlVxjX5F8x",
        "colab_type": "code",
        "colab": {}
      },
      "source": [
        "def Pertenencia(texto):\n",
        "    Estado = 0\n",
        "    for i in range(len(texto)):\n",
        "        if (texto[i].text == \"mi\" or texto[i].text == \"mis\") and texto[i+1].pos_ == \"NOUN\":\n",
        "                if texto[i].text == \"mi\":\n",
        "                    art = \"tu\"\n",
        "                if texto[i].text == \"mis\":\n",
        "                    art = \"tus\"\n",
        "                print(\"\\nEliza 2: Háblame más sobre \" + art + \" \" + texto[i+1].text)\n",
        "                Estado = 1\n",
        "    return Estado"
      ],
      "execution_count": 0,
      "outputs": []
    },
    {
      "cell_type": "code",
      "metadata": {
        "id": "7Dc3wZiW5F9D",
        "colab_type": "code",
        "colab": {}
      },
      "source": [
        "def Tiempo(texto):\n",
        "    Estado = 0\n",
        "    for token in texto:\n",
        "        if token.tag_.count(\"Past\"):\n",
        "            print(\"\\nEliza 2: El pasado no es importante, sino lo que hagas en el presente\")\n",
        "            Estado = 1\n",
        "        elif token.tag_.count(\"Futu\"):\n",
        "            print(\"\\nEliza 2: Tú eres el único constructor de tu futuro\")\n",
        "            Estado = 1\n",
        "    return Estado"
      ],
      "execution_count": 0,
      "outputs": []
    },
    {
      "cell_type": "code",
      "metadata": {
        "id": "_idR-fIx5F9P",
        "colab_type": "code",
        "outputId": "82c827f2-1e51-484e-93cc-d48a176e3009",
        "colab": {
          "base_uri": "https://localhost:8080/",
          "height": 382
        }
      },
      "source": [
        "# Se manda a llamar de manera constante la interacción entre el usuario y Eliza2\n",
        "\n",
        "# Saludo inicial de Eliza2\n",
        "usuario = \"\"\n",
        "print(\"Eliza 2: Hola, mi nombre es Eliza 2 y estoy aquí para hablar contigo y que me cuentes tus problemas y así.\")\n",
        "\n",
        "# Funcionamiento del ChatBot hasta que se le diga la palabra Salir a Eliza\n",
        "while usuario.lower().count(\"adios\") == 0:\n",
        "    Estado = 0\n",
        "    usuario = input(\"\\nUsuario: \")\n",
        "    \n",
        "    #Interacción con el chatbot\n",
        "    texto = pln_es(usuario.lower())\n",
        "    Estado = Sentimiento(texto)\n",
        "    if Estado == 0:\n",
        "        Estado = Pertenencia(texto)\n",
        "    if Estado == 0:\n",
        "        Estado = Tiempo(texto)\n",
        "    if Estado == 0 and usuario.lower().count(\"adios\") == 0:\n",
        "        print(\"\\nEliza 2: ¿Cuéntame más, qué me quieres decir?\")\n",
        "\n",
        "    # Despedida del ChatBot\n",
        "print(\"\\nEliza 2: Hasta luego, fue un gusto poder haber hablado contigo, espero que estés bien.\")"
      ],
      "execution_count": 7,
      "outputs": [
        {
          "output_type": "stream",
          "text": [
            "Eliza 2: Hola, mi nombre es Eliza 2 y estoy aquí para hablar contigo y que me cuentes tus problemas y así.\n",
            "\n",
            "Usuario: Hola Eliza\n",
            "\n",
            "Eliza 2: ¿Cuéntame más, qué me quieres decir?\n",
            "\n",
            "Usuario: Quiero bajar de peso\n",
            "\n",
            "Eliza 2: ¿Cuéntame más, qué me quieres decir?\n",
            "\n",
            "Usuario: Vivo en Los Angeles\n",
            "\n",
            "Eliza 2: ¿Cuéntame más, qué me quieres decir?\n",
            "\n",
            "Usuario: Perdio el America\n",
            "\n",
            "Eliza 2: ¿Cuéntame más, qué me quieres decir?\n",
            "\n",
            "Usuario: Adios\n",
            "\n",
            "Eliza 2: Hasta luego, fue un gusto poder haber hablado contigo, espero que estés bien.\n"
          ],
          "name": "stdout"
        }
      ]
    }
  ]
}